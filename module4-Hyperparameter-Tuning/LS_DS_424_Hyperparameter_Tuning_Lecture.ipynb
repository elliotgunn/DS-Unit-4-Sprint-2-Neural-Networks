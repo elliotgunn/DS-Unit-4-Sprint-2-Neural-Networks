{
  "nbformat": 4,
  "nbformat_minor": 0,
  "metadata": {
    "kernelspec": {
      "display_name": "Python 3",
      "language": "python",
      "name": "python3"
    },
    "language_info": {
      "codemirror_mode": {
        "name": "ipython",
        "version": 3
      },
      "file_extension": ".py",
      "mimetype": "text/x-python",
      "name": "python",
      "nbconvert_exporter": "python",
      "pygments_lexer": "ipython3",
      "version": "3.7.4"
    },
    "colab": {
      "name": "LS_DS_424_Hyperparameter_Tuning_Lecture.ipynb",
      "provenance": [],
      "collapsed_sections": []
    }
  },
  "cells": [
    {
      "cell_type": "markdown",
      "metadata": {
        "colab_type": "text",
        "id": "41TS0Sa0rDNx"
      },
      "source": [
        "Lambda School Data Science\n",
        "\n",
        "*Unit 4, Sprint 2, Module 4*\n",
        "\n",
        "---"
      ]
    },
    {
      "cell_type": "markdown",
      "metadata": {
        "colab_type": "text",
        "id": "AkjATZe-OsR0"
      },
      "source": [
        "# Neural Networks & GPUs (Prepare)\n",
        "*aka Hyperparameter Tuning*\n",
        "\n",
        "*aka Big Servers for Big Problems*"
      ]
    },
    {
      "cell_type": "markdown",
      "metadata": {
        "colab_type": "text",
        "id": "VZA0EqNBOsR1"
      },
      "source": [
        "## Learning Objectives\n",
        "* <a href=\"#p1\">Part 1</a>: Describe the major hyperparemeters to tune\n",
        "* <a href=\"#p2\">Part 2</a>: Implement an experiment tracking framework\n",
        "* <a href=\"#p3\">Part 3</a>: Search the hyperparameter space using RandomSearch (Optional)"
      ]
    },
    {
      "cell_type": "markdown",
      "metadata": {
        "id": "x43HDXvVOsR2",
        "colab_type": "text"
      },
      "source": [
        "# Hyperparameter Options (Learn)\n",
        "<a id=\"p1\"></a>"
      ]
    },
    {
      "cell_type": "markdown",
      "metadata": {
        "id": "oAqqliOTOsR3",
        "colab_type": "text"
      },
      "source": [
        "## Overview\n",
        "\n",
        "Hyperparameter tuning is much more important with neural networks than it has been with any other models that we have considered up to this point. Other supervised learning models might have a couple of parameters, but neural networks can have dozens. These can substantially affect the accuracy of our models and although it can be a time consuming process is a necessary step when working with neural networks.\n",
        "​\n",
        "Hyperparameter tuning comes with a challenge. How can we compare models specified with different hyperparameters if our model's final error metric can vary somewhat erratically? How do we avoid just getting unlucky and selecting the wrong hyperparameter? This is a problem that to a certain degree we just have to live with as we test and test again. However, we can minimize it somewhat by pairing our experiments with Cross Validation to reduce the variance of our final accuracy values.\n",
        "\n",
        "Hyperparameters: \n",
        "- not weights inside model, those are tuned by learning alg. \n",
        "- but comparing models becomes really hard"
      ]
    },
    {
      "cell_type": "markdown",
      "metadata": {
        "colab_type": "text",
        "id": "0s0o2pqBs88q"
      },
      "source": [
        "### Load Boston Housing Data"
      ]
    },
    {
      "cell_type": "code",
      "metadata": {
        "id": "sCMr8qrfOsR5",
        "colab_type": "code",
        "colab": {}
      },
      "source": [
        "from tensorflow.keras.datasets import boston_housing\n",
        "\n",
        "(X_train, y_train), (X_test, y_test) = boston_housing.load_data()"
      ],
      "execution_count": 0,
      "outputs": []
    },
    {
      "cell_type": "markdown",
      "metadata": {
        "colab_type": "text",
        "id": "Pm7zow5IvaTt"
      },
      "source": [
        "### Normalizing Input Data\n",
        "\n",
        "It's not 100% necessary to normalize/scale your input data before feeding it to a neural network, the network can learn the appropriate weights to deal with data of as long as it is numerically represented,  but it is recommended as it can help **make training faster** and **reduces the chances that gradient descent might get stuck in a local optimum**.\n",
        "\n",
        "<https://stackoverflow.com/questions/4674623/why-do-we-have-to-normalize-the-input-for-an-artificial-neural-network>"
      ]
    },
    {
      "cell_type": "code",
      "metadata": {
        "colab_type": "code",
        "id": "q5qDpUj9vZVw",
        "colab": {}
      },
      "source": [
        "# reference code from previous lecture!!!\n",
        "\n",
        "from sklearn.preprocessing import StandardScaler\n",
        "\n",
        "# Split into X and y and turn into numpy arays\n",
        "y = df.MEDV.values\n",
        "X = df.drop(\"MEDV\", axis='columns').values\n",
        "\n",
        "# Scale input data\n",
        "scaler = StandardScaler()\n",
        "X = scaler.fit_transform(X)\n",
        "\n",
        "\n",
        "print(X)"
      ],
      "execution_count": 0,
      "outputs": []
    },
    {
      "cell_type": "code",
      "metadata": {
        "id": "maFED6A8OsSD",
        "colab_type": "code",
        "colab": {}
      },
      "source": [
        "scaler = StandardScaler()\n",
        "\n",
        "X_train = scaler.fit_transform(X_train) # estimate & transform\n",
        "X_test = scaler.transform(X_test) # just transform"
      ],
      "execution_count": 0,
      "outputs": []
    },
    {
      "cell_type": "markdown",
      "metadata": {
        "colab_type": "text",
        "id": "l6hgCWbir90R"
      },
      "source": [
        "### Model Validation using an automatic verification Dataset\n",
        "\n",
        "Instead of doing seperate train test split class, Keras has a really nice feature that you can set the validation.data argument when fitting your model and Keras will take that portion of your test data and use it as a validation dataset. "
      ]
    },
    {
      "cell_type": "code",
      "metadata": {
        "colab_type": "code",
        "id": "GMXVfmzXp1Oo",
        "outputId": "fbc3a37b-7879-4981-ba7b-7e84cd80df42",
        "colab": {
          "base_uri": "https://localhost:8080/",
          "height": 1000
        }
      },
      "source": [
        "from tensorflow import keras\n",
        "from tensorflow.keras.models import Sequential\n",
        "from tensorflow.keras.layers import Dense\n",
        "\n",
        "# Important Hyperparameters\n",
        "inputs = x_train.shape[1]\n",
        "epochs = 50\n",
        "batch_size = 10\n",
        "\n",
        "\n",
        "# Create Model\n",
        "model = Sequential()\n",
        "model.add(Dense(64, activation='relu', input_shape=(inputs,)))\n",
        "model.add(Dense(64, activation='relu'))\n",
        "\n",
        "# the last layer/output layer does not need activation\n",
        "# because this is a regression problem \n",
        "# we're looking for an unbounded value\n",
        "# we don't need it bounded between 0, 1\n",
        "# unlike in a classification problem, class 1 class 2\n",
        "# we're looking for a probability, a continuous value\n",
        "# there is also no sigmoid function for that reason. \n",
        "\n",
        "model.add(Dense(1))\n",
        "\n",
        "# Compile Model\n",
        "model.compile(optimizer='adam', loss='mse', metrics=['mse', 'mae'])\n",
        "\n",
        "# Fit Model\n",
        "\n",
        "model.fit(x_train, y_train, \n",
        "          validation_data=(x_test,y_test), \n",
        "          epochs=epochs, \n",
        "          batch_size=batch_size,\n",
        "          verbose=True\n",
        "         )"
      ],
      "execution_count": 7,
      "outputs": [
        {
          "output_type": "stream",
          "text": [
            "WARNING:tensorflow:From /usr/local/lib/python3.6/dist-packages/tensorflow_core/python/ops/resource_variable_ops.py:1630: calling BaseResourceVariable.__init__ (from tensorflow.python.ops.resource_variable_ops) with constraint is deprecated and will be removed in a future version.\n",
            "Instructions for updating:\n",
            "If using Keras pass *_constraint arguments to layers.\n",
            "Train on 404 samples, validate on 102 samples\n",
            "Epoch 1/50\n",
            "404/404 [==============================] - 1s 1ms/sample - loss: 125.3422 - mean_squared_error: 125.3422 - mean_absolute_error: 8.0935 - val_loss: 101.1850 - val_mean_squared_error: 101.1850 - val_mean_absolute_error: 8.5978\n",
            "Epoch 2/50\n",
            "404/404 [==============================] - 0s 227us/sample - loss: 76.4753 - mean_squared_error: 76.4753 - mean_absolute_error: 6.4967 - val_loss: 64.3060 - val_mean_squared_error: 64.3060 - val_mean_absolute_error: 5.6485\n",
            "Epoch 3/50\n",
            "404/404 [==============================] - 0s 219us/sample - loss: 71.0486 - mean_squared_error: 71.0486 - mean_absolute_error: 6.1180 - val_loss: 55.2483 - val_mean_squared_error: 55.2483 - val_mean_absolute_error: 5.8270\n",
            "Epoch 4/50\n",
            "404/404 [==============================] - 0s 216us/sample - loss: 57.9806 - mean_squared_error: 57.9806 - mean_absolute_error: 5.5311 - val_loss: 54.1139 - val_mean_squared_error: 54.1139 - val_mean_absolute_error: 5.4923\n",
            "Epoch 5/50\n",
            "404/404 [==============================] - 0s 207us/sample - loss: 57.0726 - mean_squared_error: 57.0726 - mean_absolute_error: 5.4770 - val_loss: 54.3717 - val_mean_squared_error: 54.3717 - val_mean_absolute_error: 5.6555\n",
            "Epoch 6/50\n",
            "404/404 [==============================] - 0s 190us/sample - loss: 58.8275 - mean_squared_error: 58.8275 - mean_absolute_error: 5.5459 - val_loss: 58.1593 - val_mean_squared_error: 58.1593 - val_mean_absolute_error: 5.3680\n",
            "Epoch 7/50\n",
            "404/404 [==============================] - 0s 217us/sample - loss: 50.7914 - mean_squared_error: 50.7914 - mean_absolute_error: 4.9989 - val_loss: 53.8200 - val_mean_squared_error: 53.8200 - val_mean_absolute_error: 5.2196\n",
            "Epoch 8/50\n",
            "404/404 [==============================] - 0s 231us/sample - loss: 49.3496 - mean_squared_error: 49.3496 - mean_absolute_error: 5.0293 - val_loss: 55.0221 - val_mean_squared_error: 55.0221 - val_mean_absolute_error: 5.1510\n",
            "Epoch 9/50\n",
            "404/404 [==============================] - 0s 224us/sample - loss: 62.3291 - mean_squared_error: 62.3291 - mean_absolute_error: 5.7620 - val_loss: 49.7460 - val_mean_squared_error: 49.7460 - val_mean_absolute_error: 4.8415\n",
            "Epoch 10/50\n",
            "404/404 [==============================] - 0s 209us/sample - loss: 45.5811 - mean_squared_error: 45.5812 - mean_absolute_error: 4.7338 - val_loss: 64.4343 - val_mean_squared_error: 64.4343 - val_mean_absolute_error: 6.8635\n",
            "Epoch 11/50\n",
            "404/404 [==============================] - 0s 204us/sample - loss: 83.1370 - mean_squared_error: 83.1370 - mean_absolute_error: 7.2843 - val_loss: 77.4760 - val_mean_squared_error: 77.4760 - val_mean_absolute_error: 6.6432\n",
            "Epoch 12/50\n",
            "404/404 [==============================] - 0s 209us/sample - loss: 46.3218 - mean_squared_error: 46.3217 - mean_absolute_error: 4.8438 - val_loss: 42.5842 - val_mean_squared_error: 42.5842 - val_mean_absolute_error: 4.6366\n",
            "Epoch 13/50\n",
            "404/404 [==============================] - 0s 195us/sample - loss: 38.6704 - mean_squared_error: 38.6704 - mean_absolute_error: 4.4836 - val_loss: 47.4778 - val_mean_squared_error: 47.4778 - val_mean_absolute_error: 4.6654\n",
            "Epoch 14/50\n",
            "404/404 [==============================] - 0s 209us/sample - loss: 39.6520 - mean_squared_error: 39.6520 - mean_absolute_error: 4.5088 - val_loss: 39.2860 - val_mean_squared_error: 39.2860 - val_mean_absolute_error: 4.3995\n",
            "Epoch 15/50\n",
            "404/404 [==============================] - 0s 204us/sample - loss: 42.7533 - mean_squared_error: 42.7533 - mean_absolute_error: 4.7127 - val_loss: 40.2917 - val_mean_squared_error: 40.2917 - val_mean_absolute_error: 4.8746\n",
            "Epoch 16/50\n",
            "404/404 [==============================] - 0s 218us/sample - loss: 39.5726 - mean_squared_error: 39.5726 - mean_absolute_error: 4.5371 - val_loss: 44.6524 - val_mean_squared_error: 44.6524 - val_mean_absolute_error: 4.6301\n",
            "Epoch 17/50\n",
            "404/404 [==============================] - 0s 204us/sample - loss: 40.1919 - mean_squared_error: 40.1919 - mean_absolute_error: 4.6113 - val_loss: 43.9802 - val_mean_squared_error: 43.9802 - val_mean_absolute_error: 5.3201\n",
            "Epoch 18/50\n",
            "404/404 [==============================] - 0s 203us/sample - loss: 40.6154 - mean_squared_error: 40.6154 - mean_absolute_error: 4.5848 - val_loss: 46.3390 - val_mean_squared_error: 46.3390 - val_mean_absolute_error: 5.4124\n",
            "Epoch 19/50\n",
            "404/404 [==============================] - 0s 215us/sample - loss: 41.1268 - mean_squared_error: 41.1268 - mean_absolute_error: 4.6987 - val_loss: 59.1274 - val_mean_squared_error: 59.1274 - val_mean_absolute_error: 5.5025\n",
            "Epoch 20/50\n",
            "404/404 [==============================] - 0s 209us/sample - loss: 36.3145 - mean_squared_error: 36.3145 - mean_absolute_error: 4.3379 - val_loss: 41.9219 - val_mean_squared_error: 41.9219 - val_mean_absolute_error: 4.4865\n",
            "Epoch 21/50\n",
            "404/404 [==============================] - 0s 191us/sample - loss: 37.5496 - mean_squared_error: 37.5496 - mean_absolute_error: 4.3765 - val_loss: 55.6458 - val_mean_squared_error: 55.6458 - val_mean_absolute_error: 6.3298\n",
            "Epoch 22/50\n",
            "404/404 [==============================] - 0s 208us/sample - loss: 45.2892 - mean_squared_error: 45.2892 - mean_absolute_error: 5.0313 - val_loss: 35.5211 - val_mean_squared_error: 35.5211 - val_mean_absolute_error: 4.1920\n",
            "Epoch 23/50\n",
            "404/404 [==============================] - 0s 208us/sample - loss: 39.9208 - mean_squared_error: 39.9208 - mean_absolute_error: 4.6090 - val_loss: 44.2716 - val_mean_squared_error: 44.2716 - val_mean_absolute_error: 4.6266\n",
            "Epoch 24/50\n",
            "404/404 [==============================] - 0s 201us/sample - loss: 40.0723 - mean_squared_error: 40.0723 - mean_absolute_error: 4.6375 - val_loss: 65.0989 - val_mean_squared_error: 65.0989 - val_mean_absolute_error: 6.2025\n",
            "Epoch 25/50\n",
            "404/404 [==============================] - 0s 236us/sample - loss: 42.0792 - mean_squared_error: 42.0792 - mean_absolute_error: 4.7671 - val_loss: 35.1001 - val_mean_squared_error: 35.1001 - val_mean_absolute_error: 4.1145\n",
            "Epoch 26/50\n",
            "404/404 [==============================] - 0s 223us/sample - loss: 43.5022 - mean_squared_error: 43.5022 - mean_absolute_error: 4.7564 - val_loss: 35.3139 - val_mean_squared_error: 35.3139 - val_mean_absolute_error: 4.4219\n",
            "Epoch 27/50\n",
            "404/404 [==============================] - 0s 228us/sample - loss: 48.8233 - mean_squared_error: 48.8233 - mean_absolute_error: 5.2595 - val_loss: 36.4766 - val_mean_squared_error: 36.4766 - val_mean_absolute_error: 4.2517\n",
            "Epoch 28/50\n",
            "404/404 [==============================] - 0s 215us/sample - loss: 44.0776 - mean_squared_error: 44.0776 - mean_absolute_error: 5.0840 - val_loss: 46.1140 - val_mean_squared_error: 46.1140 - val_mean_absolute_error: 5.5497\n",
            "Epoch 29/50\n",
            "404/404 [==============================] - 0s 191us/sample - loss: 38.3573 - mean_squared_error: 38.3573 - mean_absolute_error: 4.4201 - val_loss: 45.8932 - val_mean_squared_error: 45.8932 - val_mean_absolute_error: 5.5985\n",
            "Epoch 30/50\n",
            "404/404 [==============================] - 0s 204us/sample - loss: 35.1765 - mean_squared_error: 35.1765 - mean_absolute_error: 4.3158 - val_loss: 96.7487 - val_mean_squared_error: 96.7487 - val_mean_absolute_error: 8.1982\n",
            "Epoch 31/50\n",
            "404/404 [==============================] - 0s 197us/sample - loss: 41.2265 - mean_squared_error: 41.2265 - mean_absolute_error: 4.7243 - val_loss: 34.2427 - val_mean_squared_error: 34.2427 - val_mean_absolute_error: 4.3195\n",
            "Epoch 32/50\n",
            "404/404 [==============================] - 0s 209us/sample - loss: 33.5951 - mean_squared_error: 33.5951 - mean_absolute_error: 4.2013 - val_loss: 40.8193 - val_mean_squared_error: 40.8193 - val_mean_absolute_error: 5.0275\n",
            "Epoch 33/50\n",
            "404/404 [==============================] - 0s 207us/sample - loss: 34.6684 - mean_squared_error: 34.6684 - mean_absolute_error: 4.3663 - val_loss: 39.4730 - val_mean_squared_error: 39.4730 - val_mean_absolute_error: 4.8861\n",
            "Epoch 34/50\n",
            "404/404 [==============================] - 0s 214us/sample - loss: 33.0977 - mean_squared_error: 33.0977 - mean_absolute_error: 4.1754 - val_loss: 42.6626 - val_mean_squared_error: 42.6626 - val_mean_absolute_error: 4.6611\n",
            "Epoch 35/50\n",
            "404/404 [==============================] - 0s 218us/sample - loss: 34.2695 - mean_squared_error: 34.2695 - mean_absolute_error: 4.3417 - val_loss: 43.8632 - val_mean_squared_error: 43.8632 - val_mean_absolute_error: 5.4827\n",
            "Epoch 36/50\n",
            "404/404 [==============================] - 0s 213us/sample - loss: 40.6166 - mean_squared_error: 40.6166 - mean_absolute_error: 4.7342 - val_loss: 41.9719 - val_mean_squared_error: 41.9719 - val_mean_absolute_error: 4.6465\n",
            "Epoch 37/50\n",
            "404/404 [==============================] - 0s 217us/sample - loss: 38.6550 - mean_squared_error: 38.6550 - mean_absolute_error: 4.7189 - val_loss: 52.2959 - val_mean_squared_error: 52.2959 - val_mean_absolute_error: 5.3800\n",
            "Epoch 38/50\n",
            "404/404 [==============================] - 0s 205us/sample - loss: 37.7940 - mean_squared_error: 37.7940 - mean_absolute_error: 4.5718 - val_loss: 65.9483 - val_mean_squared_error: 65.9483 - val_mean_absolute_error: 6.3842\n",
            "Epoch 39/50\n",
            "404/404 [==============================] - 0s 203us/sample - loss: 34.9375 - mean_squared_error: 34.9375 - mean_absolute_error: 4.3244 - val_loss: 32.9853 - val_mean_squared_error: 32.9853 - val_mean_absolute_error: 3.9644\n",
            "Epoch 40/50\n",
            "404/404 [==============================] - 0s 195us/sample - loss: 42.9309 - mean_squared_error: 42.9309 - mean_absolute_error: 4.9934 - val_loss: 41.3417 - val_mean_squared_error: 41.3417 - val_mean_absolute_error: 4.5518\n",
            "Epoch 41/50\n",
            "404/404 [==============================] - 0s 196us/sample - loss: 36.6234 - mean_squared_error: 36.6234 - mean_absolute_error: 4.4141 - val_loss: 35.1188 - val_mean_squared_error: 35.1188 - val_mean_absolute_error: 4.6259\n",
            "Epoch 42/50\n",
            "404/404 [==============================] - 0s 196us/sample - loss: 34.1819 - mean_squared_error: 34.1819 - mean_absolute_error: 4.4120 - val_loss: 37.0670 - val_mean_squared_error: 37.0670 - val_mean_absolute_error: 4.3918\n",
            "Epoch 43/50\n",
            "404/404 [==============================] - 0s 216us/sample - loss: 32.9905 - mean_squared_error: 32.9905 - mean_absolute_error: 4.2767 - val_loss: 40.6859 - val_mean_squared_error: 40.6859 - val_mean_absolute_error: 4.5720\n",
            "Epoch 44/50\n",
            "404/404 [==============================] - 0s 223us/sample - loss: 30.9028 - mean_squared_error: 30.9028 - mean_absolute_error: 4.0247 - val_loss: 41.3817 - val_mean_squared_error: 41.3817 - val_mean_absolute_error: 4.6462\n",
            "Epoch 45/50\n",
            "404/404 [==============================] - 0s 217us/sample - loss: 30.9675 - mean_squared_error: 30.9675 - mean_absolute_error: 4.0999 - val_loss: 30.7307 - val_mean_squared_error: 30.7307 - val_mean_absolute_error: 3.9370\n",
            "Epoch 46/50\n",
            "404/404 [==============================] - 0s 199us/sample - loss: 35.3729 - mean_squared_error: 35.3729 - mean_absolute_error: 4.3922 - val_loss: 40.9086 - val_mean_squared_error: 40.9086 - val_mean_absolute_error: 4.6805\n",
            "Epoch 47/50\n",
            "404/404 [==============================] - 0s 208us/sample - loss: 30.1425 - mean_squared_error: 30.1425 - mean_absolute_error: 3.9561 - val_loss: 40.2626 - val_mean_squared_error: 40.2626 - val_mean_absolute_error: 4.8727\n",
            "Epoch 48/50\n",
            "404/404 [==============================] - 0s 203us/sample - loss: 36.6639 - mean_squared_error: 36.6639 - mean_absolute_error: 4.3816 - val_loss: 36.5345 - val_mean_squared_error: 36.5345 - val_mean_absolute_error: 4.8516\n",
            "Epoch 49/50\n",
            "404/404 [==============================] - 0s 200us/sample - loss: 29.9719 - mean_squared_error: 29.9719 - mean_absolute_error: 4.0165 - val_loss: 31.7692 - val_mean_squared_error: 31.7692 - val_mean_absolute_error: 4.0298\n",
            "Epoch 50/50\n",
            "404/404 [==============================] - 0s 202us/sample - loss: 30.6044 - mean_squared_error: 30.6044 - mean_absolute_error: 4.0470 - val_loss: 33.9682 - val_mean_squared_error: 33.9682 - val_mean_absolute_error: 4.5561\n"
          ],
          "name": "stdout"
        },
        {
          "output_type": "execute_result",
          "data": {
            "text/plain": [
              "<tensorflow.python.keras.callbacks.History at 0x7f08f4334b38>"
            ]
          },
          "metadata": {
            "tags": []
          },
          "execution_count": 7
        }
      ]
    },
    {
      "cell_type": "markdown",
      "metadata": {
        "colab_type": "text",
        "id": "sYJ8t_ezHP4W"
      },
      "source": [
        "### Hyperparameter Tuning Approaches:\n",
        "\n",
        "#### 1) Babysitting AKA \"Grad Student Descent\".\n",
        "\n",
        "If you fiddled with any hyperparameters yesterday, this is basically what you did. This approach is 100% manual and is pretty common among researchers where finding that 1 exact specification that jumps your model to a level of accuracy never seen before is the difference between publishing and not publishing a paper. Of course the professors don't do this themselves, that's grunt work. This is also known as the fiddle with hyperparameters until you run out of time method.\n",
        "\n",
        "#### 2) Grid Search\n",
        "\n",
        "Grid Search is the Grad Student galaxy brain realization of: why don't I just specify all the experiments I want to run and let the computer try every possible combination of them while I go and grab lunch. This has a specific downside in that if I specify 5 hyperparameters with 5 options each then I've just created 5^5 combinations of hyperparameters to check. Which means that I have to train 3125 different versions of my model Then if I use 5-fold Cross Validation on that then my model has to run 15,525 times. This is the brute-force method of hyperparameter tuning, but it can be very profitable if done wisely. \n",
        "\n",
        "When using Grid Search here's what I suggest: don't use it to test combinations of different hyperparameters, only use it to test different specifications of **a single** hyperparameter. It's rare that combinations between different hyperparameters lead to big performance gains. You'll get 90-95% of the way there if you just Grid Search one parameter and take the best result, then retain that best result while you test another, and then retain the best specification from that while you train another. This at least makes the situation much more manageable and leads to pretty good results. \n",
        "\n",
        "#### 3) Random Search\n",
        "\n",
        "Do Grid Search for a couple of hours and you'll say to yourself - \"There's got to be a better way.\" Enter Random Search. For Random search you specify a hyperparameter space and it picks specifications from that randomly, tries them out, gives you the best results and says - That's going to have to be good enough, go home and spend time with your family. \n",
        "\n",
        "Grid Search treats every parameter as if it was equally important, but this just isn't the case, some are known to move the needle a lot more than others (we'll talk about that in a minute). Random Search allows searching to be specified along the most important parameter and experiments less along the dimensions of less important hyperparameters. The downside of Random search is that it won't find the absolute best hyperparameters, but it is much less costly to perform than Grid Search. \n",
        "\n",
        "#### 4) Bayesian Methods\n",
        "\n",
        "One thing that can make more manual methods like babysitting and gridsearch effective is that as the experimenter sees results he can then make updates to his future searches taking into account the results of past specifications. If only we could hyperparameter tune our hyperparameter tuning. Well, we kind of can. Enter Bayesian Optimization. Neural Networks are like an optimization problem within an optimization problem, and Bayesian Optimization is a search strategy that tries to take into account the results of past searches in order to improve future ones. This is the most advanced method but can be a little bit tricky to implement, but there are some early steps with `hyperas` which is Bayesian optimization wrapper for `keras`. "
      ]
    },
    {
      "cell_type": "markdown",
      "metadata": {
        "colab_type": "text",
        "id": "HfQ7D043OMMn"
      },
      "source": [
        "## What Hyperparameters are there to test?\n",
        "\n",
        "- batch_size\n",
        "- training epochs\n",
        "- optimization algorithms\n",
        "- learning rate\n",
        "- momentum\n",
        "- activation functions\n",
        "- dropout regularization\n",
        "- number of neurons in the hidden layer\n",
        "\n",
        "There are more, but these are the most important."
      ]
    },
    {
      "cell_type": "markdown",
      "metadata": {
        "id": "ZbuktZyVOsSK",
        "colab_type": "text"
      },
      "source": [
        "## Follow Along"
      ]
    },
    {
      "cell_type": "markdown",
      "metadata": {
        "colab_type": "text",
        "id": "Mri5-kXzVKAa"
      },
      "source": [
        "## 1. Batch Size\n",
        "\n",
        "Batch size determines how many observations the model is shown before it calculates loss/error and updates the model weights via gradient descent. You're looking for a sweet spot here where you're showing it enough observations that you have enough information to updates the weights, but not such a large batch size that you don't get a lot of weight update iterations performed in a given epoch. Feed-forward Neural Networks aren't as sensitive to bach_size as other networks, but it is still an important hyperparameter to tune. Smaller batch sizes will also take longer to train. "
      ]
    },
    {
      "cell_type": "code",
      "metadata": {
        "colab_type": "code",
        "id": "2smXfriNAGn7",
        "outputId": "2f92923c-c7ab-467b-ca5c-48436849cc8e",
        "colab": {
          "base_uri": "https://localhost:8080/",
          "height": 241
        }
      },
      "source": [
        "import numpy\n",
        "import pandas as pd\n",
        "from sklearn.model_selection import GridSearchCV\n",
        "from tensorflow.keras.models import Sequential\n",
        "from tensorflow.keras.layers import Dense\n",
        "\n",
        "# scikit learn's keras classifier wrapper\n",
        "# there is also a regressor method\n",
        "from tensorflow.keras.wrappers.scikit_learn import KerasClassifier\n",
        "\n",
        "# fix random seed for reproducibility\n",
        "seed = 7\n",
        "numpy.random.seed(seed)\n",
        "\n",
        "# load dataset\n",
        "url =\"https://raw.githubusercontent.com/jbrownlee/Datasets/master/pima-indians-diabetes.data.csv\"\n",
        "\n",
        "dataset = pd.read_csv(url, header=None).values\n",
        "\n",
        "# split into input (X) and output (Y) variables\n",
        "X = dataset[:,0:8]\n",
        "Y = dataset[:,8]\n",
        "\n",
        "# Function to create model, required for KerasClassifier\n",
        "def create_model():\n",
        "    # create model\n",
        "    model = Sequential()\n",
        "    model.add(Dense(12, input_dim=8, activation='relu'))\n",
        "    model.add(Dense(1, activation='sigmoid'))\n",
        "    # Compile model\n",
        "    model.compile(loss='binary_crossentropy', optimizer='adam', metrics=['accuracy'])\n",
        "    return model\n",
        "\n",
        "# create model\n",
        "model = KerasClassifier(build_fn=create_model, verbose=0)\n",
        "\n",
        "# define the grid search parameters\n",
        "# batch_size = [10, 20, 40, 60, 80, 100]\n",
        "# param_grid = dict(batch_size=batch_size, epochs=epochs)\n",
        "\n",
        "# define the grid search parameters\n",
        "# how to choose?\n",
        "# don't worry about it unless dealing with images or more complex data structures\n",
        "param_grid = {'batch_size': [10, 20, 40, 60, 80, 100],\n",
        "              'epochs': [20]}\n",
        "\n",
        "# Create Grid Search\n",
        "# make sure n_jobs = 1 for keras\n",
        "grid = GridSearchCV(estimator=model, param_grid=param_grid, n_jobs=1)\n",
        "grid_result = grid.fit(X, Y)\n",
        "\n",
        "# Report Results\n",
        "print(f\"Best: {grid_result.best_score_} using {grid_result.best_params_}\")\n",
        "means = grid_result.cv_results_['mean_test_score']\n",
        "stds = grid_result.cv_results_['std_test_score']\n",
        "params = grid_result.cv_results_['params']\n",
        "for mean, stdev, param in zip(means, stds, params):\n",
        "    print(f\"Means: {mean}, Stdev: {stdev} with: {param}\") "
      ],
      "execution_count": 9,
      "outputs": [
        {
          "output_type": "stream",
          "text": [
            "WARNING:tensorflow:From /usr/local/lib/python3.6/dist-packages/tensorflow_core/python/ops/nn_impl.py:183: where (from tensorflow.python.ops.array_ops) is deprecated and will be removed in a future version.\n",
            "Instructions for updating:\n",
            "Use tf.where in 2.0, which has the same broadcast rule as np.where\n"
          ],
          "name": "stdout"
        },
        {
          "output_type": "stream",
          "text": [
            "/usr/local/lib/python3.6/dist-packages/sklearn/model_selection/_split.py:1978: FutureWarning: The default value of cv will change from 3 to 5 in version 0.22. Specify it explicitly to silence this warning.\n",
            "  warnings.warn(CV_WARNING, FutureWarning)\n"
          ],
          "name": "stderr"
        },
        {
          "output_type": "stream",
          "text": [
            "Best: 0.6276041666666666 using {'batch_size': 10, 'epochs': 20}\n",
            "Means: 0.6276041666666666, Stdev: 0.03319674162495302 with: {'batch_size': 10, 'epochs': 20}\n",
            "Means: 0.56640625, Stdev: 0.030425316264447715 with: {'batch_size': 20, 'epochs': 20}\n",
            "Means: 0.625, Stdev: 0.061515686515717274 with: {'batch_size': 40, 'epochs': 20}\n",
            "Means: 0.5325520833333334, Stdev: 0.051263072096431064 with: {'batch_size': 60, 'epochs': 20}\n",
            "Means: 0.6106770833333334, Stdev: 0.03380404944204992 with: {'batch_size': 80, 'epochs': 20}\n",
            "Means: 0.6106770833333334, Stdev: 0.0506642616102701 with: {'batch_size': 100, 'epochs': 20}\n"
          ],
          "name": "stdout"
        }
      ]
    },
    {
      "cell_type": "markdown",
      "metadata": {
        "colab_type": "text",
        "id": "pmABfjlvXbqi"
      },
      "source": [
        "## Epochs\n",
        "\n",
        "The number of training epochs has a large and direct affect on the accuracy, However, more epochs is almost always goign to better than less epochs. This means that if you tune this parameter at the beginning and try and maintain the same value all throughout your training, you're going to be waiting a long time for each iteration of GridSearch. I suggest picking a fixed moderat # of epochs all throughout your training and then Grid Searching this parameter at the very end. \n",
        "\n",
        "- more epochs always better\n",
        "- tune it last"
      ]
    },
    {
      "cell_type": "code",
      "metadata": {
        "colab_type": "code",
        "id": "bAmxP3N7TmFh",
        "outputId": "ed2743a7-9611-49a9-9eb2-c4df18284c3c",
        "colab": {
          "base_uri": "https://localhost:8080/",
          "height": 156
        }
      },
      "source": [
        "# define the grid search parameters\n",
        "param_grid = {'batch_size': [10],\n",
        "              'epochs': [20, 40, 60, 200]}\n",
        "\n",
        "# Create Grid Search\n",
        "grid = GridSearchCV(estimator=model, param_grid=param_grid, n_jobs=1)\n",
        "grid_result = grid.fit(X, Y)\n",
        "\n",
        "# Report Results\n",
        "print(f\"Best: {grid_result.best_score_} using {grid_result.best_params_}\")\n",
        "means = grid_result.cv_results_['mean_test_score']\n",
        "stds = grid_result.cv_results_['std_test_score']\n",
        "params = grid_result.cv_results_['params']\n",
        "for mean, stdev, param in zip(means, stds, params):\n",
        "    print(f\"Means: {mean}, Stdev: {stdev} with: {param}\")"
      ],
      "execution_count": 11,
      "outputs": [
        {
          "output_type": "stream",
          "text": [
            "/usr/local/lib/python3.6/dist-packages/sklearn/model_selection/_split.py:1978: FutureWarning: The default value of cv will change from 3 to 5 in version 0.22. Specify it explicitly to silence this warning.\n",
            "  warnings.warn(CV_WARNING, FutureWarning)\n"
          ],
          "name": "stderr"
        },
        {
          "output_type": "stream",
          "text": [
            "Best: 0.72265625 using {'batch_size': 10, 'epochs': 200}\n",
            "Means: 0.6666666666666666, Stdev: 0.0048719497223619025 with: {'batch_size': 10, 'epochs': 20}\n",
            "Means: 0.6640625, Stdev: 0.025315393353155705 with: {'batch_size': 10, 'epochs': 40}\n",
            "Means: 0.6744791666666666, Stdev: 0.01573313277811793 with: {'batch_size': 10, 'epochs': 60}\n",
            "Means: 0.72265625, Stdev: 0.022326078384742508 with: {'batch_size': 10, 'epochs': 200}\n"
          ],
          "name": "stdout"
        }
      ]
    },
    {
      "cell_type": "markdown",
      "metadata": {
        "colab_type": "text",
        "id": "EKcuY6OiaLfz"
      },
      "source": [
        "## Optimizer\n",
        "\n",
        "Remember that there's a different optimizers [optimizers](https://keras.io/optimizers/). At some point, take some time to read up on them a little bit. \"adam\" usually gives the best results for tabular data. The thing to know about choosing an optimizer is that different optimizers have different hyperparameters like learning rate, momentum, etc. So based on the optimizer you choose you might also have to tune the learning rate and momentum of those optimizers after that. "
      ]
    },
    {
      "cell_type": "markdown",
      "metadata": {
        "colab_type": "text",
        "id": "DG3wq5iOaLig"
      },
      "source": [
        "## Learning Rate\n",
        "\n",
        "Remember that the Learning Rate is a hyperparameter that is specific to your gradient-descent based optimizer selection. A learning rate that is too high will cause divergent behavior, but a Learning Rate that is too low will fail to converge, again, you're looking for the sweet spot. I would start out tuning learning rates by orders of magnitude: [.001, .01, .1, .2, .3, .5] etc. I wouldn't go above .5, but you can try it and see what the behavior is like. \n",
        "\n",
        "Once you have narrowed it down, make the window even smaller and try it again. If after running the above specification your model reports that .1 is the best optimizer, then you should probably try things like [.05, .08, .1, .12, .15] to try and narrow it down. \n",
        "\n",
        "It can also be good to tune the number of epochs in combination with the learning rate since the number of iterations that you allow the learning rate to reach the minimum can determine if you have let it run long enough to converge to the minimum. "
      ]
    },
    {
      "cell_type": "markdown",
      "metadata": {
        "colab_type": "text",
        "id": "gNTBUWd1aLlA"
      },
      "source": [
        "## Momentum\n",
        "\n",
        "Momentum is a hyperparameter that is more commonly associated with Stochastic Gradient Descent. SGD is a common optimizer because it's what people understand and know, but I doubt it will get you the best results, you can try hyperparameter tuning its attributes and see if you can beat the performance from adam. Momentum is a property that decides the willingness of an optimizer to overshoot the minimum. Imagine a ball rolling down one side of a bowl and then up the opposite side a little bit before settling back to the bottom. The purpose of momentum is to try and escale local minima."
      ]
    },
    {
      "cell_type": "markdown",
      "metadata": {
        "colab_type": "text",
        "id": "xnEG-bCJaLnZ"
      },
      "source": [
        "## Activation Functions\n",
        "\n",
        "We've talked about this a little bit, typically you'l want to use ReLU for hidden layers and either Sigmoid, or Softmax for output layers of binary and multi-class classification implementations respectively, but try other activation functions and see if you can get any better results with sigmoid or tanh or something. There are a lot of activation functions that we haven't really talked about. Maybe you'll get good results with them. Maybe you won't. :) <https://keras.io/activations/>"
      ]
    },
    {
      "cell_type": "markdown",
      "metadata": {
        "colab_type": "text",
        "id": "oul9sPq-dU-h"
      },
      "source": [
        "## Network Weight Initialization\n",
        "\n",
        "You saw how big of an effect the way that we initialize our network's weights can have on our results. There are **a lot** of what are called initialization modes. I don't understand all of them, but they can have a big affect on your model's initial accuracy. Your model will get further with less epochs if you initialize it with weights that are well suited to the problem you're trying to solve.\n",
        "\n",
        "`init_mode = ['uniform', 'lecun_uniform', 'normal', 'zero', 'glorot_normal', 'glorot_uniform', 'he_normal', 'he_uniform']`"
      ]
    },
    {
      "cell_type": "markdown",
      "metadata": {
        "colab_type": "text",
        "id": "bqtEuxeQaLqE"
      },
      "source": [
        "## Dropout Regularization and the Weight Constraint\n",
        "\n",
        "the Dropout Regularization value is a percentage of neurons that you want to be randomly deactivated during training. The weight constraint is a second regularization parameter that works in tandem with dropout regularization. You should tune these two values at the same time. \n",
        "\n",
        "Using dropout on visible vs hidden layers might have a different effect. Using dropout on hidden layers might not have any effect while using dropout on hidden layers might have a substantial effect. You don't necessarily need to turn use dropout unless you see that your model has overfitting and generalizability problems."
      ]
    },
    {
      "cell_type": "markdown",
      "metadata": {
        "colab_type": "text",
        "id": "P2c5Cv6oaLtO"
      },
      "source": [
        "## Neurons in Hidden Layer \n",
        "\n",
        "Remember that when we only had a single perceptron our model was only able to fit to linearly separable data, but as we have added layers and nodes to those layers our network has become a powerhouse of fitting nonlinearity in data. The larger the network and the more nodes generally the stronger the network's capacity to fit nonlinear patterns in data. The more nodes and layers the longer it will take to train a network, and higher the probability of overfitting. The larger your network gets the more you'll need dropout regularization or other regularization techniques to keep it in check. \n",
        "\n",
        "Typically depth (more layers) is more important than width (more nodes) for neural networks. This is part of why Deep Learning is so highly touted. Certain deep learning architectures have truly been huge breakthroughs for certain machine learning tasks. \n",
        "\n",
        "You might borrow ideas from other network architectures. For example if I was doing image recognition and I wasn't taking cues from state of the art architectures like resnet, alexnet, googlenet, etc. Then I'm probably going to have to do a lot more experimentation on my own before I find something that works.\n",
        "\n",
        "There are some heuristics, but I am highly skeptical of them. I think you're better off experimenting on your own and forming your own intuition for these kinds of problems. \n",
        "\n",
        "- https://machinelearningmastery.com/how-to-configure-the-number-of-layers-and-nodes-in-a-neural-network/"
      ]
    },
    {
      "cell_type": "markdown",
      "metadata": {
        "id": "OI-SwSKPOsSg",
        "colab_type": "text"
      },
      "source": [
        "## Challenge\n",
        "You will be expected to tune several hyperparameters in today's module project. "
      ]
    },
    {
      "cell_type": "markdown",
      "metadata": {
        "id": "LC2MWTjDOsSh",
        "colab_type": "text"
      },
      "source": [
        "# Experiment Tracking Framework (Learn)\n",
        "<a id=\"p2\"></a>"
      ]
    },
    {
      "cell_type": "markdown",
      "metadata": {
        "id": "3zw5WH6vOsSi",
        "colab_type": "text"
      },
      "source": [
        "## Overview\n",
        "\n",
        "You will notice quickly that managing the results of all the experiments you are running becomes challenging. Which set of parameters did the best? Are my results today different than my results yesterday? Although we use Ipython Notebooks to work, the format is not well suited to logging experimental results. Enter experiment tracking frameworks like [Comet.ml](https://comet.ml) and [Weights and Biases](https://wandb.ai/).\n",
        "\n",
        "Those tools will help you track your experiments, store the results, and the code associated with those experiments. Experimental results can also be readily visualized to see changes in performance across any metric you care about. Data is sent to the tool as each epoch is completed, so you can also see if your model is converging. Let's check out Weights & Biases today. "
      ]
    },
    {
      "cell_type": "markdown",
      "metadata": {
        "id": "hCKCj2KfOsSj",
        "colab_type": "text"
      },
      "source": [
        "## Follow Along\n",
        "\n",
        "Make sure you login into `wandb` in the terminal before running the next cell.\n",
        "\n",
        "wandb login 'api key'"
      ]
    },
    {
      "cell_type": "code",
      "metadata": {
        "id": "mBEvCe0NOsSk",
        "colab_type": "code",
        "colab": {}
      },
      "source": [
        "import wandb\n",
        "from wandb.keras import WandbCallback\n",
        "wandb.init(project=\"boston\", entity=\"ds6\")"
      ],
      "execution_count": 0,
      "outputs": []
    },
    {
      "cell_type": "code",
      "metadata": {
        "colab_type": "code",
        "outputId": "b05e251e-508f-46e6-865b-f869ae2a5dc4",
        "id": "retUoaT5OsSn",
        "colab": {
          "base_uri": "https://localhost:8080/",
          "height": 1750
        }
      },
      "source": [
        "# Important Hyperparameters\n",
        "X = X_train\n",
        "y = y_train\n",
        "\n",
        "inputs = X.shape[1]\n",
        "wandb.config.epochs = 50\n",
        "wandb.config.batch_size = 10\n",
        "# more like e.g. wandb.config.learning_rate = 10\n",
        "\n",
        "# Create Model\n",
        "model = Sequential()\n",
        "model.add(Dense(64, activation='relu', input_shape=(inputs,)))\n",
        "model.add(Dense(64, activation='relu'))\n",
        "model.add(Dense(1))\n",
        "# Compile Model\n",
        "model.compile(optimizer='adam', loss='mse', metrics=['mse', 'mae'])\n",
        "\n",
        "# Fit Model\n",
        "\n",
        "model.fit(X, y, \n",
        "          validation_split=0.33, \n",
        "          epochs=wandb.config.epochs, \n",
        "          batch_size=wandb.config.epochs, \n",
        "          callbacks=[WandbCallback()]\n",
        "         )"
      ],
      "execution_count": 0,
      "outputs": [
        {
          "output_type": "stream",
          "text": [
            "E0912 10:13:21.582159 4512605632 jupyter.py:96] Failed to query for notebook name, you can set it manually with the WANDB_NOTEBOOK_NAME environment variable\n"
          ],
          "name": "stderr"
        },
        {
          "output_type": "stream",
          "text": [
            "Train on 339 samples, validate on 167 samples\n",
            "Epoch 1/50\n",
            "339/339 [==============================] - 0s 855us/sample - loss: 691.9624 - mean_squared_error: 691.9624 - val_loss: 355.0848 - val_mean_squared_error: 355.0848\n",
            "Epoch 2/50\n",
            "339/339 [==============================] - 0s 74us/sample - loss: 660.2862 - mean_squared_error: 660.2861 - val_loss: 336.8931 - val_mean_squared_error: 336.8931\n",
            "Epoch 3/50\n",
            "339/339 [==============================] - 0s 112us/sample - loss: 626.1058 - mean_squared_error: 626.1058 - val_loss: 317.3721 - val_mean_squared_error: 317.3721\n",
            "Epoch 4/50\n",
            "339/339 [==============================] - 0s 83us/sample - loss: 587.1283 - mean_squared_error: 587.1283 - val_loss: 295.8682 - val_mean_squared_error: 295.8682\n",
            "Epoch 5/50\n",
            "339/339 [==============================] - 0s 76us/sample - loss: 537.5568 - mean_squared_error: 537.5569 - val_loss: 271.9893 - val_mean_squared_error: 271.9893\n",
            "Epoch 6/50\n",
            "339/339 [==============================] - 0s 80us/sample - loss: 473.9000 - mean_squared_error: 473.9000 - val_loss: 246.5327 - val_mean_squared_error: 246.5327\n",
            "Epoch 7/50\n",
            "339/339 [==============================] - 0s 79us/sample - loss: 399.0164 - mean_squared_error: 399.0164 - val_loss: 220.9570 - val_mean_squared_error: 220.9570\n",
            "Epoch 8/50\n",
            "339/339 [==============================] - 0s 80us/sample - loss: 315.3497 - mean_squared_error: 315.3497 - val_loss: 197.6462 - val_mean_squared_error: 197.6462\n",
            "Epoch 9/50\n",
            "339/339 [==============================] - 0s 103us/sample - loss: 230.0370 - mean_squared_error: 230.0370 - val_loss: 179.2751 - val_mean_squared_error: 179.2751\n",
            "Epoch 10/50\n",
            "339/339 [==============================] - 0s 77us/sample - loss: 154.7817 - mean_squared_error: 154.7817 - val_loss: 167.0551 - val_mean_squared_error: 167.0551\n",
            "Epoch 11/50\n",
            "339/339 [==============================] - 0s 77us/sample - loss: 105.3493 - mean_squared_error: 105.3493 - val_loss: 159.8331 - val_mean_squared_error: 159.8331\n",
            "Epoch 12/50\n",
            "339/339 [==============================] - 0s 75us/sample - loss: 77.4344 - mean_squared_error: 77.4344 - val_loss: 151.3967 - val_mean_squared_error: 151.3967\n",
            "Epoch 13/50\n",
            "339/339 [==============================] - 0s 77us/sample - loss: 63.7156 - mean_squared_error: 63.7156 - val_loss: 140.2394 - val_mean_squared_error: 140.2394\n",
            "Epoch 14/50\n",
            "339/339 [==============================] - 0s 78us/sample - loss: 48.5835 - mean_squared_error: 48.5835 - val_loss: 127.2387 - val_mean_squared_error: 127.2387\n",
            "Epoch 15/50\n",
            "339/339 [==============================] - 0s 87us/sample - loss: 37.8733 - mean_squared_error: 37.8733 - val_loss: 116.6476 - val_mean_squared_error: 116.6476\n",
            "Epoch 16/50\n",
            "339/339 [==============================] - 0s 153us/sample - loss: 30.1285 - mean_squared_error: 30.1285 - val_loss: 109.2158 - val_mean_squared_error: 109.2158\n",
            "Epoch 17/50\n",
            "339/339 [==============================] - 0s 72us/sample - loss: 24.8799 - mean_squared_error: 24.8799 - val_loss: 104.6462 - val_mean_squared_error: 104.6462\n",
            "Epoch 18/50\n",
            "339/339 [==============================] - 0s 102us/sample - loss: 21.6781 - mean_squared_error: 21.6781 - val_loss: 101.8188 - val_mean_squared_error: 101.8188\n",
            "Epoch 19/50\n",
            "339/339 [==============================] - 0s 74us/sample - loss: 19.5379 - mean_squared_error: 19.5379 - val_loss: 99.6642 - val_mean_squared_error: 99.6642\n",
            "Epoch 20/50\n",
            "339/339 [==============================] - 0s 79us/sample - loss: 17.8237 - mean_squared_error: 17.8237 - val_loss: 98.5439 - val_mean_squared_error: 98.5439\n",
            "Epoch 21/50\n",
            "339/339 [==============================] - 0s 75us/sample - loss: 16.7360 - mean_squared_error: 16.7360 - val_loss: 97.5971 - val_mean_squared_error: 97.5971\n",
            "Epoch 22/50\n",
            "339/339 [==============================] - 0s 73us/sample - loss: 15.6916 - mean_squared_error: 15.6916 - val_loss: 96.4185 - val_mean_squared_error: 96.4185\n",
            "Epoch 23/50\n",
            "339/339 [==============================] - 0s 74us/sample - loss: 14.9834 - mean_squared_error: 14.9834 - val_loss: 95.1004 - val_mean_squared_error: 95.1004\n",
            "Epoch 24/50\n",
            "339/339 [==============================] - 0s 83us/sample - loss: 14.3874 - mean_squared_error: 14.3874 - val_loss: 93.8591 - val_mean_squared_error: 93.8591\n",
            "Epoch 25/50\n",
            "339/339 [==============================] - 0s 78us/sample - loss: 13.8535 - mean_squared_error: 13.8535 - val_loss: 92.3135 - val_mean_squared_error: 92.3135\n",
            "Epoch 26/50\n",
            "339/339 [==============================] - 0s 80us/sample - loss: 13.4950 - mean_squared_error: 13.4950 - val_loss: 90.9254 - val_mean_squared_error: 90.9254\n",
            "Epoch 27/50\n",
            "339/339 [==============================] - 0s 70us/sample - loss: 13.0603 - mean_squared_error: 13.0603 - val_loss: 89.2812 - val_mean_squared_error: 89.2812\n",
            "Epoch 28/50\n",
            "339/339 [==============================] - 0s 74us/sample - loss: 12.7232 - mean_squared_error: 12.7232 - val_loss: 87.8430 - val_mean_squared_error: 87.8430\n",
            "Epoch 29/50\n",
            "339/339 [==============================] - 0s 74us/sample - loss: 12.3633 - mean_squared_error: 12.3633 - val_loss: 86.4976 - val_mean_squared_error: 86.4976\n",
            "Epoch 30/50\n",
            "339/339 [==============================] - 0s 72us/sample - loss: 12.0572 - mean_squared_error: 12.0572 - val_loss: 84.8616 - val_mean_squared_error: 84.8616\n",
            "Epoch 31/50\n",
            "339/339 [==============================] - 0s 69us/sample - loss: 11.7646 - mean_squared_error: 11.7646 - val_loss: 83.5297 - val_mean_squared_error: 83.5297\n",
            "Epoch 32/50\n",
            "339/339 [==============================] - 0s 68us/sample - loss: 11.5216 - mean_squared_error: 11.5216 - val_loss: 82.6964 - val_mean_squared_error: 82.6964\n",
            "Epoch 33/50\n",
            "339/339 [==============================] - 0s 74us/sample - loss: 11.2523 - mean_squared_error: 11.2523 - val_loss: 81.5098 - val_mean_squared_error: 81.5098\n",
            "Epoch 34/50\n",
            "339/339 [==============================] - 0s 73us/sample - loss: 11.0146 - mean_squared_error: 11.0146 - val_loss: 80.1996 - val_mean_squared_error: 80.1996\n",
            "Epoch 35/50\n",
            "339/339 [==============================] - 0s 70us/sample - loss: 10.7820 - mean_squared_error: 10.7820 - val_loss: 78.9657 - val_mean_squared_error: 78.9657\n",
            "Epoch 36/50\n",
            "339/339 [==============================] - 0s 69us/sample - loss: 10.6086 - mean_squared_error: 10.6086 - val_loss: 77.8950 - val_mean_squared_error: 77.8950\n",
            "Epoch 37/50\n",
            "339/339 [==============================] - 0s 72us/sample - loss: 10.3683 - mean_squared_error: 10.3683 - val_loss: 77.2041 - val_mean_squared_error: 77.2041\n",
            "Epoch 38/50\n",
            "339/339 [==============================] - 0s 69us/sample - loss: 10.1993 - mean_squared_error: 10.1993 - val_loss: 76.1137 - val_mean_squared_error: 76.1137\n",
            "Epoch 39/50\n",
            "339/339 [==============================] - 0s 71us/sample - loss: 9.9866 - mean_squared_error: 9.9866 - val_loss: 75.1318 - val_mean_squared_error: 75.1318\n",
            "Epoch 40/50\n",
            "339/339 [==============================] - 0s 69us/sample - loss: 9.8172 - mean_squared_error: 9.8172 - val_loss: 74.2301 - val_mean_squared_error: 74.2301\n",
            "Epoch 41/50\n",
            "339/339 [==============================] - 0s 68us/sample - loss: 9.6379 - mean_squared_error: 9.6379 - val_loss: 73.3440 - val_mean_squared_error: 73.3439\n",
            "Epoch 42/50\n",
            "339/339 [==============================] - 0s 70us/sample - loss: 9.4828 - mean_squared_error: 9.4828 - val_loss: 72.4156 - val_mean_squared_error: 72.4156\n",
            "Epoch 43/50\n",
            "339/339 [==============================] - 0s 72us/sample - loss: 9.3129 - mean_squared_error: 9.3129 - val_loss: 71.6323 - val_mean_squared_error: 71.6323\n",
            "Epoch 44/50\n",
            "339/339 [==============================] - 0s 79us/sample - loss: 9.1870 - mean_squared_error: 9.1870 - val_loss: 70.7300 - val_mean_squared_error: 70.7300\n",
            "Epoch 45/50\n",
            "339/339 [==============================] - 0s 77us/sample - loss: 9.0110 - mean_squared_error: 9.0110 - val_loss: 69.7804 - val_mean_squared_error: 69.7804\n",
            "Epoch 46/50\n",
            "339/339 [==============================] - 0s 74us/sample - loss: 8.8892 - mean_squared_error: 8.8892 - val_loss: 69.0510 - val_mean_squared_error: 69.0510\n",
            "Epoch 47/50\n",
            "339/339 [==============================] - 0s 76us/sample - loss: 8.7423 - mean_squared_error: 8.7423 - val_loss: 67.9057 - val_mean_squared_error: 67.9057\n",
            "Epoch 48/50\n",
            "339/339 [==============================] - 0s 71us/sample - loss: 8.6113 - mean_squared_error: 8.6113 - val_loss: 67.0401 - val_mean_squared_error: 67.0401\n",
            "Epoch 49/50\n",
            "339/339 [==============================] - 0s 75us/sample - loss: 8.4658 - mean_squared_error: 8.4658 - val_loss: 66.3409 - val_mean_squared_error: 66.3409\n",
            "Epoch 50/50\n",
            "339/339 [==============================] - 0s 74us/sample - loss: 8.3440 - mean_squared_error: 8.3440 - val_loss: 65.5890 - val_mean_squared_error: 65.5890\n"
          ],
          "name": "stdout"
        },
        {
          "output_type": "execute_result",
          "data": {
            "text/plain": [
              "<tensorflow.python.keras.callbacks.History at 0x1a35c50d68>"
            ]
          },
          "metadata": {
            "tags": []
          },
          "execution_count": 16
        }
      ]
    },
    {
      "cell_type": "markdown",
      "metadata": {
        "id": "aKm56OAvOsSr",
        "colab_type": "text"
      },
      "source": [
        "## Challenge\n",
        "\n",
        "You will be expected to use Weights & Biases to try to tune your model during your module assignment today. "
      ]
    },
    {
      "cell_type": "markdown",
      "metadata": {
        "id": "xlSUVrDAOsSt",
        "colab_type": "text"
      },
      "source": [
        "# Hyperparameters with RandomSearchCV (Learn)"
      ]
    },
    {
      "cell_type": "markdown",
      "metadata": {
        "id": "WSq4sM-zOsSv",
        "colab_type": "text"
      },
      "source": [
        "## Overview\n",
        "\n",
        "Basically `GridSearchCV` takes forever. You'll want to adopt a slightly more sophiscated strategy."
      ]
    },
    {
      "cell_type": "markdown",
      "metadata": {
        "id": "IQcikshVOsSw",
        "colab_type": "text"
      },
      "source": [
        "## Follow Along - just add learning rate"
      ]
    },
    {
      "cell_type": "code",
      "metadata": {
        "id": "2EGv1JjUOsSz",
        "colab_type": "code",
        "colab": {}
      },
      "source": [
        "import wandb\n",
        "from wandb.keras import WandbCallback\n",
        "wandb.init(project=\"boston\", entity=\"ds6\")\n",
        "\n",
        "from tensorflow.keras.optimizers import Adam\n",
        "\n",
        "# Important Hyperparameters\n",
        "X = X_train\n",
        "y = y_train\n",
        "\n",
        "inputs = X.shape[1]\n",
        "wandb.config.epochs = 50\n",
        "wandb.config.batch_size = 10\n",
        "wandb.config.learning_rate = .1\n",
        "\n",
        "# Create Model\n",
        "model = Sequential()\n",
        "model.add(Dense(64, activation='relu', input_shape=(inputs,)))\n",
        "model.add(Dense(64, activation='relu'))\n",
        "model.add(Dense(1))\n",
        "\n",
        "# optimizer \n",
        "adam = Adam(learning_rate = wandb.config.learning_rate)\n",
        "\n",
        "# Compile Model\n",
        "model.compile(optimizer='adam', loss='mse', metrics=['mse', 'mae'])\n",
        "\n",
        "# Fit Model\n",
        "\n",
        "model.fit(X, y, \n",
        "          validation_split=0.33, \n",
        "          epochs=wandb.config.epochs, \n",
        "          batch_size=wandb.config.epochs, \n",
        "          callbacks=[WandbCallback()]\n",
        "         )"
      ],
      "execution_count": 0,
      "outputs": []
    },
    {
      "cell_type": "markdown",
      "metadata": {
        "id": "mGkPe5coOsS1",
        "colab_type": "text"
      },
      "source": [
        "## Challenge\n",
        "\n",
        "Try to apply RandomSearchCV to your module project today. "
      ]
    },
    {
      "cell_type": "markdown",
      "metadata": {
        "id": "kSlqpMLHOsS2",
        "colab_type": "text"
      },
      "source": [
        "# Review\n",
        "* <a href=\"#p1\">Part 1</a>: Describe the major hyperparemeters to tune\n",
        "    - Activation Functions\n",
        "    - Optimizer\n",
        "    - Number of Layers\n",
        "    - Number of Neurons\n",
        "    - Batch Size\n",
        "    - Dropout Regulaization\n",
        "    - Learning Rate\n",
        "    - Number of Epochs\n",
        "    - and many more\n",
        "* <a href=\"#p2\">Part 2</a>: Implement an experiment tracking framework\n",
        "    - Weights & Biases\n",
        "    - Comet.ml\n",
        "    - By Hand / GridSearch\n",
        "* <a href=\"#p3\">Part 3</a>: Search the hyperparameter space using RandomSearch\n",
        "    - Sklearn still useful (haha)\n",
        "    - Integration with Wieghts & Biases\n",
        "* <a href=\"#p4\">Part 4</a>: Discuss emerging hyperparameter tuning strategies\n",
        "    - Bayesian Optimization\n",
        "    - Hyperopt\n",
        "    - Genetic Evolution"
      ]
    },
    {
      "cell_type": "markdown",
      "metadata": {
        "id": "jZpTdHAOOsS3",
        "colab_type": "text"
      },
      "source": [
        "# Sources"
      ]
    },
    {
      "cell_type": "markdown",
      "metadata": {
        "id": "AhXw3mkuOsS3",
        "colab_type": "text"
      },
      "source": [
        "## Additional Reading\n",
        "- https://machinelearningmastery.com/grid-search-hyperparameters-deep-learning-models-python-keras/\n",
        "- https://blog.floydhub.com/guide-to-hyperparameters-search-for-deep-learning-models/\n",
        "- https://machinelearningmastery.com/dropout-regularization-deep-learning-models-keras/\n",
        "- https://machinelearningmastery.com/introduction-to-weight-constraints-to-reduce-generalization-error-in-deep-learning/\n",
        "- https://machinelearningmastery.com/how-to-configure-the-number-of-layers-and-nodes-in-a-neural-network/"
      ]
    }
  ]
}