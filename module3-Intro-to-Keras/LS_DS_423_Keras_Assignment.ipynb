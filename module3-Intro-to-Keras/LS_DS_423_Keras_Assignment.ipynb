{
  "nbformat": 4,
  "nbformat_minor": 0,
  "metadata": {
    "colab": {
      "name": "LS_DS_423_Keras_Assignment.ipynb",
      "provenance": [],
      "collapsed_sections": []
    },
    "kernelspec": {
      "display_name": "Python 3",
      "language": "python",
      "name": "python3"
    },
    "language_info": {
      "codemirror_mode": {
        "name": "ipython",
        "version": 3
      },
      "file_extension": ".py",
      "mimetype": "text/x-python",
      "name": "python",
      "nbconvert_exporter": "python",
      "pygments_lexer": "ipython3",
      "version": "3.7.3"
    }
  },
  "cells": [
    {
      "cell_type": "markdown",
      "metadata": {
        "colab_type": "text",
        "id": "pBQsZEJmubLs"
      },
      "source": [
        "<img align=\"left\" src=\"https://lever-client-logos.s3.amazonaws.com/864372b1-534c-480e-acd5-9711f850815c-1524247202159.png\" width=200>\n",
        "<br></br>\n",
        "\n",
        "# Neural Network Framework (Keras)\n",
        "\n",
        "## *Data Science Unit 4 Sprint 2 Assignmnet 3*\n",
        "\n",
        "## Use the Keras Library to build a Multi-Layer Perceptron Model on the Boston Housing dataset\n",
        "\n",
        "- The Boston Housing dataset comes with the Keras library so use Keras to import it into your notebook. \n",
        "- Normalize the data (all features should have roughly the same scale)\n",
        "- Import the type of model and layers that you will need from Keras.\n",
        "- Instantiate a model object and use `model.add()` to add layers to your model\n",
        "- Since this is a regression model you will have a single output node in the final layer.\n",
        "- Use activation functions that are appropriate for this task\n",
        "- Compile your model\n",
        "- Fit your model and report its accuracy in terms of Mean Squared Error\n",
        "- Use the history object that is returned from model.fit to make graphs of the model's loss or train/validation accuracies by epoch. \n",
        "- Run this same data through a linear regression model. Which achieves higher accuracy?\n",
        "- Do a little bit of feature engineering and see how that affects your neural network model. (you will need to change your model to accept more inputs)\n",
        "- After feature engineering, which model sees a greater accuracy boost due to the new features?"
      ]
    },
    {
      "cell_type": "code",
      "metadata": {
        "colab_type": "code",
        "id": "8NLTAR87uYJ-",
        "colab": {}
      },
      "source": [
        "# 1. import dataset \n",
        "from keras.datasets import boston_housing\n",
        "(X_train, y_train), (X_test, y_test) = boston_housing.load_data()"
      ],
      "execution_count": 0,
      "outputs": []
    },
    {
      "cell_type": "code",
      "metadata": {
        "id": "txauR4phxnio",
        "colab_type": "code",
        "outputId": "76561667-21a1-4e26-ec3f-27826228ad9a",
        "colab": {
          "base_uri": "https://localhost:8080/",
          "height": 34
        }
      },
      "source": [
        "X_train.shape, y_train.shape, X_test.shape, y_test.shape"
      ],
      "execution_count": 0,
      "outputs": [
        {
          "output_type": "execute_result",
          "data": {
            "text/plain": [
              "((404, 13), (404,), (102, 13), (102,))"
            ]
          },
          "metadata": {
            "tags": []
          },
          "execution_count": 10
        }
      ]
    },
    {
      "cell_type": "code",
      "metadata": {
        "id": "n6t80m47xGbS",
        "colab_type": "code",
        "colab": {}
      },
      "source": [
        "# 2. normalize features\n",
        "from sklearn.preprocessing import MinMaxScaler, Normalizer\n",
        "\n",
        "scaler = MinMaxScaler()\n",
        "\n",
        "X_train = scaler.fit_transform(X_train)\n",
        "X_test = scaler.fit_transform(X_test)"
      ],
      "execution_count": 0,
      "outputs": []
    },
    {
      "cell_type": "code",
      "metadata": {
        "id": "kNUWo-9YxW2K",
        "colab_type": "code",
        "colab": {}
      },
      "source": [
        "# 3. import models and layers from Keras\n",
        "from tensorflow.keras.models import Sequential\n",
        "from tensorflow.keras.layers import Dense\n",
        "\n",
        "import numpy as np"
      ],
      "execution_count": 0,
      "outputs": []
    },
    {
      "cell_type": "code",
      "metadata": {
        "id": "R8NHRmStyZz6",
        "colab_type": "code",
        "colab": {}
      },
      "source": [
        "# 4. instantiate model object, use model.add() to add layers, single output mode\n",
        "# use activation layers appropriate for task\n",
        "# in this case, relu is better for optimal model fit\n",
        "\n",
        "# input dimension: 13 bc of X features/dimensions\n",
        "\n",
        "model = Sequential()\n",
        "\n",
        "# input, hidden, output\n",
        "model.add(Dense(5, input_dim=13, activation=\"relu\"))\n",
        "model.add(Dense(3, activation=\"relu\"))\n",
        "model.add(Dense(1, activation=\"softmax\"))"
      ],
      "execution_count": 0,
      "outputs": []
    },
    {
      "cell_type": "code",
      "metadata": {
        "id": "bEDYAIw_0D65",
        "colab_type": "code",
        "colab": {}
      },
      "source": [
        "# 5. compile model\n",
        "model.compile(loss='mse', optimizer='adam',\n",
        "              metrics=['mse','mae'])"
      ],
      "execution_count": 0,
      "outputs": []
    },
    {
      "cell_type": "code",
      "metadata": {
        "id": "7guWuxO1zlhW",
        "colab_type": "code",
        "outputId": "1742e9dc-7bb6-4966-deca-086e9767d5b7",
        "colab": {
          "base_uri": "https://localhost:8080/",
          "height": 1000
        }
      },
      "source": [
        "# 6. fit model\n",
        "# validation_split: validation data will be the last x% of data (not shuffled)\n",
        "# \n",
        "\n",
        "hist = model.fit(X_train, y_train, epochs=150, validation_split=0.2)\n"
      ],
      "execution_count": 0,
      "outputs": [
        {
          "output_type": "stream",
          "text": [
            "Train on 323 samples, validate on 81 samples\n",
            "Epoch 1/150\n",
            "323/323 [==============================] - 0s 282us/sample - loss: 528.5834 - mean_squared_error: 528.5834 - mean_absolute_error: 21.0814 - val_loss: 597.3483 - val_mean_squared_error: 597.3483 - val_mean_absolute_error: 22.6457\n",
            "Epoch 2/150\n",
            "323/323 [==============================] - 0s 105us/sample - loss: 528.5834 - mean_squared_error: 528.5834 - mean_absolute_error: 21.0814 - val_loss: 597.3483 - val_mean_squared_error: 597.3483 - val_mean_absolute_error: 22.6457\n",
            "Epoch 3/150\n",
            "323/323 [==============================] - 0s 81us/sample - loss: 528.5834 - mean_squared_error: 528.5834 - mean_absolute_error: 21.0814 - val_loss: 597.3483 - val_mean_squared_error: 597.3483 - val_mean_absolute_error: 22.6457\n",
            "Epoch 4/150\n",
            "323/323 [==============================] - 0s 65us/sample - loss: 528.5834 - mean_squared_error: 528.5834 - mean_absolute_error: 21.0814 - val_loss: 597.3483 - val_mean_squared_error: 597.3483 - val_mean_absolute_error: 22.6457\n",
            "Epoch 5/150\n",
            "323/323 [==============================] - 0s 76us/sample - loss: 528.5834 - mean_squared_error: 528.5834 - mean_absolute_error: 21.0814 - val_loss: 597.3483 - val_mean_squared_error: 597.3483 - val_mean_absolute_error: 22.6457\n",
            "Epoch 6/150\n",
            "323/323 [==============================] - 0s 78us/sample - loss: 528.5834 - mean_squared_error: 528.5834 - mean_absolute_error: 21.0814 - val_loss: 597.3483 - val_mean_squared_error: 597.3483 - val_mean_absolute_error: 22.6457\n",
            "Epoch 7/150\n",
            "323/323 [==============================] - 0s 79us/sample - loss: 528.5834 - mean_squared_error: 528.5834 - mean_absolute_error: 21.0814 - val_loss: 597.3483 - val_mean_squared_error: 597.3483 - val_mean_absolute_error: 22.6457\n",
            "Epoch 8/150\n",
            "323/323 [==============================] - 0s 63us/sample - loss: 528.5834 - mean_squared_error: 528.5834 - mean_absolute_error: 21.0814 - val_loss: 597.3483 - val_mean_squared_error: 597.3483 - val_mean_absolute_error: 22.6457\n",
            "Epoch 9/150\n",
            "323/323 [==============================] - 0s 71us/sample - loss: 528.5834 - mean_squared_error: 528.5834 - mean_absolute_error: 21.0814 - val_loss: 597.3483 - val_mean_squared_error: 597.3482 - val_mean_absolute_error: 22.6457\n",
            "Epoch 10/150\n",
            "323/323 [==============================] - 0s 66us/sample - loss: 528.5834 - mean_squared_error: 528.5834 - mean_absolute_error: 21.0814 - val_loss: 597.3483 - val_mean_squared_error: 597.3483 - val_mean_absolute_error: 22.6457\n",
            "Epoch 11/150\n",
            "323/323 [==============================] - 0s 66us/sample - loss: 528.5834 - mean_squared_error: 528.5834 - mean_absolute_error: 21.0814 - val_loss: 597.3482 - val_mean_squared_error: 597.3483 - val_mean_absolute_error: 22.6457\n",
            "Epoch 12/150\n",
            "323/323 [==============================] - 0s 88us/sample - loss: 528.5834 - mean_squared_error: 528.5834 - mean_absolute_error: 21.0814 - val_loss: 597.3483 - val_mean_squared_error: 597.3483 - val_mean_absolute_error: 22.6457\n",
            "Epoch 13/150\n",
            "323/323 [==============================] - 0s 57us/sample - loss: 528.5834 - mean_squared_error: 528.5834 - mean_absolute_error: 21.0814 - val_loss: 597.3483 - val_mean_squared_error: 597.3483 - val_mean_absolute_error: 22.6457\n",
            "Epoch 14/150\n",
            "323/323 [==============================] - 0s 71us/sample - loss: 528.5834 - mean_squared_error: 528.5834 - mean_absolute_error: 21.0814 - val_loss: 597.3483 - val_mean_squared_error: 597.3483 - val_mean_absolute_error: 22.6457\n",
            "Epoch 15/150\n",
            "323/323 [==============================] - 0s 56us/sample - loss: 528.5834 - mean_squared_error: 528.5834 - mean_absolute_error: 21.0814 - val_loss: 597.3483 - val_mean_squared_error: 597.3483 - val_mean_absolute_error: 22.6457\n",
            "Epoch 16/150\n",
            "323/323 [==============================] - 0s 57us/sample - loss: 528.5834 - mean_squared_error: 528.5834 - mean_absolute_error: 21.0814 - val_loss: 597.3482 - val_mean_squared_error: 597.3483 - val_mean_absolute_error: 22.6457\n",
            "Epoch 17/150\n",
            "323/323 [==============================] - 0s 58us/sample - loss: 528.5834 - mean_squared_error: 528.5833 - mean_absolute_error: 21.0814 - val_loss: 597.3483 - val_mean_squared_error: 597.3482 - val_mean_absolute_error: 22.6457\n",
            "Epoch 18/150\n",
            "323/323 [==============================] - 0s 57us/sample - loss: 528.5834 - mean_squared_error: 528.5834 - mean_absolute_error: 21.0814 - val_loss: 597.3482 - val_mean_squared_error: 597.3482 - val_mean_absolute_error: 22.6457\n",
            "Epoch 19/150\n",
            "323/323 [==============================] - 0s 58us/sample - loss: 528.5834 - mean_squared_error: 528.5834 - mean_absolute_error: 21.0814 - val_loss: 597.3482 - val_mean_squared_error: 597.3482 - val_mean_absolute_error: 22.6457\n",
            "Epoch 20/150\n",
            "323/323 [==============================] - 0s 73us/sample - loss: 528.5834 - mean_squared_error: 528.5834 - mean_absolute_error: 21.0814 - val_loss: 597.3483 - val_mean_squared_error: 597.3483 - val_mean_absolute_error: 22.6457\n",
            "Epoch 21/150\n",
            "323/323 [==============================] - 0s 62us/sample - loss: 528.5834 - mean_squared_error: 528.5834 - mean_absolute_error: 21.0814 - val_loss: 597.3483 - val_mean_squared_error: 597.3483 - val_mean_absolute_error: 22.6457\n",
            "Epoch 22/150\n",
            "323/323 [==============================] - 0s 68us/sample - loss: 528.5834 - mean_squared_error: 528.5834 - mean_absolute_error: 21.0814 - val_loss: 597.3483 - val_mean_squared_error: 597.3483 - val_mean_absolute_error: 22.6457\n",
            "Epoch 23/150\n",
            "323/323 [==============================] - 0s 64us/sample - loss: 528.5834 - mean_squared_error: 528.5833 - mean_absolute_error: 21.0814 - val_loss: 597.3483 - val_mean_squared_error: 597.3483 - val_mean_absolute_error: 22.6457\n",
            "Epoch 24/150\n",
            "323/323 [==============================] - 0s 81us/sample - loss: 528.5834 - mean_squared_error: 528.5834 - mean_absolute_error: 21.0814 - val_loss: 597.3483 - val_mean_squared_error: 597.3483 - val_mean_absolute_error: 22.6457\n",
            "Epoch 25/150\n",
            "323/323 [==============================] - 0s 60us/sample - loss: 528.5834 - mean_squared_error: 528.5834 - mean_absolute_error: 21.0814 - val_loss: 597.3483 - val_mean_squared_error: 597.3482 - val_mean_absolute_error: 22.6457\n",
            "Epoch 26/150\n",
            "323/323 [==============================] - 0s 61us/sample - loss: 528.5834 - mean_squared_error: 528.5834 - mean_absolute_error: 21.0814 - val_loss: 597.3482 - val_mean_squared_error: 597.3483 - val_mean_absolute_error: 22.6457\n",
            "Epoch 27/150\n",
            "323/323 [==============================] - 0s 63us/sample - loss: 528.5834 - mean_squared_error: 528.5834 - mean_absolute_error: 21.0814 - val_loss: 597.3483 - val_mean_squared_error: 597.3483 - val_mean_absolute_error: 22.6457\n",
            "Epoch 28/150\n",
            "323/323 [==============================] - 0s 63us/sample - loss: 528.5834 - mean_squared_error: 528.5833 - mean_absolute_error: 21.0814 - val_loss: 597.3483 - val_mean_squared_error: 597.3482 - val_mean_absolute_error: 22.6457\n",
            "Epoch 29/150\n",
            "323/323 [==============================] - 0s 61us/sample - loss: 528.5834 - mean_squared_error: 528.5834 - mean_absolute_error: 21.0814 - val_loss: 597.3483 - val_mean_squared_error: 597.3483 - val_mean_absolute_error: 22.6457\n",
            "Epoch 30/150\n",
            "323/323 [==============================] - 0s 65us/sample - loss: 528.5834 - mean_squared_error: 528.5834 - mean_absolute_error: 21.0814 - val_loss: 597.3483 - val_mean_squared_error: 597.3483 - val_mean_absolute_error: 22.6457\n",
            "Epoch 31/150\n",
            "323/323 [==============================] - 0s 59us/sample - loss: 528.5834 - mean_squared_error: 528.5834 - mean_absolute_error: 21.0814 - val_loss: 597.3483 - val_mean_squared_error: 597.3483 - val_mean_absolute_error: 22.6457\n",
            "Epoch 32/150\n",
            "323/323 [==============================] - 0s 69us/sample - loss: 528.5834 - mean_squared_error: 528.5834 - mean_absolute_error: 21.0814 - val_loss: 597.3483 - val_mean_squared_error: 597.3482 - val_mean_absolute_error: 22.6457\n",
            "Epoch 33/150\n",
            "323/323 [==============================] - 0s 65us/sample - loss: 528.5834 - mean_squared_error: 528.5834 - mean_absolute_error: 21.0814 - val_loss: 597.3483 - val_mean_squared_error: 597.3483 - val_mean_absolute_error: 22.6457\n",
            "Epoch 34/150\n",
            "323/323 [==============================] - 0s 62us/sample - loss: 528.5834 - mean_squared_error: 528.5834 - mean_absolute_error: 21.0814 - val_loss: 597.3483 - val_mean_squared_error: 597.3483 - val_mean_absolute_error: 22.6457\n",
            "Epoch 35/150\n",
            "323/323 [==============================] - 0s 65us/sample - loss: 528.5834 - mean_squared_error: 528.5834 - mean_absolute_error: 21.0814 - val_loss: 597.3483 - val_mean_squared_error: 597.3483 - val_mean_absolute_error: 22.6457\n",
            "Epoch 36/150\n",
            "323/323 [==============================] - 0s 64us/sample - loss: 528.5834 - mean_squared_error: 528.5834 - mean_absolute_error: 21.0814 - val_loss: 597.3483 - val_mean_squared_error: 597.3483 - val_mean_absolute_error: 22.6457\n",
            "Epoch 37/150\n",
            "323/323 [==============================] - 0s 59us/sample - loss: 528.5834 - mean_squared_error: 528.5834 - mean_absolute_error: 21.0814 - val_loss: 597.3483 - val_mean_squared_error: 597.3483 - val_mean_absolute_error: 22.6457\n",
            "Epoch 38/150\n",
            "323/323 [==============================] - 0s 65us/sample - loss: 528.5834 - mean_squared_error: 528.5834 - mean_absolute_error: 21.0814 - val_loss: 597.3483 - val_mean_squared_error: 597.3483 - val_mean_absolute_error: 22.6457\n",
            "Epoch 39/150\n",
            "323/323 [==============================] - 0s 65us/sample - loss: 528.5834 - mean_squared_error: 528.5833 - mean_absolute_error: 21.0814 - val_loss: 597.3483 - val_mean_squared_error: 597.3483 - val_mean_absolute_error: 22.6457\n",
            "Epoch 40/150\n",
            "323/323 [==============================] - 0s 60us/sample - loss: 528.5834 - mean_squared_error: 528.5834 - mean_absolute_error: 21.0814 - val_loss: 597.3483 - val_mean_squared_error: 597.3483 - val_mean_absolute_error: 22.6457\n",
            "Epoch 41/150\n",
            "323/323 [==============================] - 0s 71us/sample - loss: 528.5834 - mean_squared_error: 528.5834 - mean_absolute_error: 21.0814 - val_loss: 597.3483 - val_mean_squared_error: 597.3483 - val_mean_absolute_error: 22.6457\n",
            "Epoch 42/150\n",
            "323/323 [==============================] - 0s 61us/sample - loss: 528.5834 - mean_squared_error: 528.5834 - mean_absolute_error: 21.0814 - val_loss: 597.3483 - val_mean_squared_error: 597.3483 - val_mean_absolute_error: 22.6457\n",
            "Epoch 43/150\n",
            "323/323 [==============================] - 0s 58us/sample - loss: 528.5834 - mean_squared_error: 528.5834 - mean_absolute_error: 21.0814 - val_loss: 597.3483 - val_mean_squared_error: 597.3483 - val_mean_absolute_error: 22.6457\n",
            "Epoch 44/150\n",
            "323/323 [==============================] - 0s 61us/sample - loss: 528.5834 - mean_squared_error: 528.5834 - mean_absolute_error: 21.0814 - val_loss: 597.3483 - val_mean_squared_error: 597.3483 - val_mean_absolute_error: 22.6457\n",
            "Epoch 45/150\n",
            "323/323 [==============================] - 0s 71us/sample - loss: 528.5834 - mean_squared_error: 528.5834 - mean_absolute_error: 21.0814 - val_loss: 597.3483 - val_mean_squared_error: 597.3483 - val_mean_absolute_error: 22.6457\n",
            "Epoch 46/150\n",
            "323/323 [==============================] - 0s 67us/sample - loss: 528.5834 - mean_squared_error: 528.5834 - mean_absolute_error: 21.0814 - val_loss: 597.3482 - val_mean_squared_error: 597.3482 - val_mean_absolute_error: 22.6457\n",
            "Epoch 47/150\n",
            "323/323 [==============================] - 0s 57us/sample - loss: 528.5834 - mean_squared_error: 528.5834 - mean_absolute_error: 21.0814 - val_loss: 597.3483 - val_mean_squared_error: 597.3483 - val_mean_absolute_error: 22.6457\n",
            "Epoch 48/150\n",
            "323/323 [==============================] - 0s 58us/sample - loss: 528.5834 - mean_squared_error: 528.5834 - mean_absolute_error: 21.0814 - val_loss: 597.3483 - val_mean_squared_error: 597.3483 - val_mean_absolute_error: 22.6457\n",
            "Epoch 49/150\n",
            "323/323 [==============================] - 0s 55us/sample - loss: 528.5834 - mean_squared_error: 528.5834 - mean_absolute_error: 21.0814 - val_loss: 597.3483 - val_mean_squared_error: 597.3483 - val_mean_absolute_error: 22.6457\n",
            "Epoch 50/150\n",
            "323/323 [==============================] - 0s 69us/sample - loss: 528.5834 - mean_squared_error: 528.5834 - mean_absolute_error: 21.0814 - val_loss: 597.3482 - val_mean_squared_error: 597.3482 - val_mean_absolute_error: 22.6457\n",
            "Epoch 51/150\n",
            "323/323 [==============================] - 0s 63us/sample - loss: 528.5834 - mean_squared_error: 528.5834 - mean_absolute_error: 21.0814 - val_loss: 597.3483 - val_mean_squared_error: 597.3483 - val_mean_absolute_error: 22.6457\n",
            "Epoch 52/150\n",
            "323/323 [==============================] - 0s 55us/sample - loss: 528.5834 - mean_squared_error: 528.5834 - mean_absolute_error: 21.0814 - val_loss: 597.3483 - val_mean_squared_error: 597.3483 - val_mean_absolute_error: 22.6457\n",
            "Epoch 53/150\n",
            "323/323 [==============================] - 0s 56us/sample - loss: 528.5834 - mean_squared_error: 528.5834 - mean_absolute_error: 21.0814 - val_loss: 597.3483 - val_mean_squared_error: 597.3483 - val_mean_absolute_error: 22.6457\n",
            "Epoch 54/150\n",
            "323/323 [==============================] - 0s 63us/sample - loss: 528.5834 - mean_squared_error: 528.5834 - mean_absolute_error: 21.0814 - val_loss: 597.3483 - val_mean_squared_error: 597.3483 - val_mean_absolute_error: 22.6457\n",
            "Epoch 55/150\n",
            "323/323 [==============================] - 0s 56us/sample - loss: 528.5834 - mean_squared_error: 528.5834 - mean_absolute_error: 21.0814 - val_loss: 597.3483 - val_mean_squared_error: 597.3483 - val_mean_absolute_error: 22.6457\n",
            "Epoch 56/150\n",
            "323/323 [==============================] - 0s 57us/sample - loss: 528.5834 - mean_squared_error: 528.5834 - mean_absolute_error: 21.0814 - val_loss: 597.3482 - val_mean_squared_error: 597.3482 - val_mean_absolute_error: 22.6457\n",
            "Epoch 57/150\n",
            "323/323 [==============================] - 0s 61us/sample - loss: 528.5834 - mean_squared_error: 528.5834 - mean_absolute_error: 21.0814 - val_loss: 597.3483 - val_mean_squared_error: 597.3483 - val_mean_absolute_error: 22.6457\n",
            "Epoch 58/150\n",
            "323/323 [==============================] - 0s 70us/sample - loss: 528.5834 - mean_squared_error: 528.5834 - mean_absolute_error: 21.0814 - val_loss: 597.3483 - val_mean_squared_error: 597.3483 - val_mean_absolute_error: 22.6457\n",
            "Epoch 59/150\n",
            "323/323 [==============================] - 0s 55us/sample - loss: 528.5834 - mean_squared_error: 528.5834 - mean_absolute_error: 21.0814 - val_loss: 597.3483 - val_mean_squared_error: 597.3483 - val_mean_absolute_error: 22.6457\n",
            "Epoch 60/150\n",
            "323/323 [==============================] - 0s 71us/sample - loss: 528.5834 - mean_squared_error: 528.5834 - mean_absolute_error: 21.0814 - val_loss: 597.3483 - val_mean_squared_error: 597.3483 - val_mean_absolute_error: 22.6457\n",
            "Epoch 61/150\n",
            "323/323 [==============================] - 0s 59us/sample - loss: 528.5834 - mean_squared_error: 528.5834 - mean_absolute_error: 21.0814 - val_loss: 597.3483 - val_mean_squared_error: 597.3483 - val_mean_absolute_error: 22.6457\n",
            "Epoch 62/150\n",
            "323/323 [==============================] - 0s 69us/sample - loss: 528.5834 - mean_squared_error: 528.5834 - mean_absolute_error: 21.0814 - val_loss: 597.3483 - val_mean_squared_error: 597.3483 - val_mean_absolute_error: 22.6457\n",
            "Epoch 63/150\n",
            "323/323 [==============================] - 0s 57us/sample - loss: 528.5834 - mean_squared_error: 528.5834 - mean_absolute_error: 21.0814 - val_loss: 597.3483 - val_mean_squared_error: 597.3483 - val_mean_absolute_error: 22.6457\n",
            "Epoch 64/150\n",
            "323/323 [==============================] - 0s 78us/sample - loss: 528.5834 - mean_squared_error: 528.5834 - mean_absolute_error: 21.0814 - val_loss: 597.3483 - val_mean_squared_error: 597.3483 - val_mean_absolute_error: 22.6457\n",
            "Epoch 65/150\n",
            "323/323 [==============================] - 0s 62us/sample - loss: 528.5834 - mean_squared_error: 528.5834 - mean_absolute_error: 21.0814 - val_loss: 597.3483 - val_mean_squared_error: 597.3483 - val_mean_absolute_error: 22.6457\n",
            "Epoch 66/150\n",
            "323/323 [==============================] - 0s 68us/sample - loss: 528.5834 - mean_squared_error: 528.5834 - mean_absolute_error: 21.0814 - val_loss: 597.3483 - val_mean_squared_error: 597.3483 - val_mean_absolute_error: 22.6457\n",
            "Epoch 67/150\n",
            "323/323 [==============================] - 0s 68us/sample - loss: 528.5834 - mean_squared_error: 528.5834 - mean_absolute_error: 21.0814 - val_loss: 597.3483 - val_mean_squared_error: 597.3483 - val_mean_absolute_error: 22.6457\n",
            "Epoch 68/150\n",
            "323/323 [==============================] - 0s 58us/sample - loss: 528.5834 - mean_squared_error: 528.5833 - mean_absolute_error: 21.0814 - val_loss: 597.3483 - val_mean_squared_error: 597.3483 - val_mean_absolute_error: 22.6457\n",
            "Epoch 69/150\n",
            "323/323 [==============================] - 0s 58us/sample - loss: 528.5834 - mean_squared_error: 528.5834 - mean_absolute_error: 21.0814 - val_loss: 597.3483 - val_mean_squared_error: 597.3483 - val_mean_absolute_error: 22.6457\n",
            "Epoch 70/150\n",
            "323/323 [==============================] - 0s 61us/sample - loss: 528.5834 - mean_squared_error: 528.5834 - mean_absolute_error: 21.0814 - val_loss: 597.3483 - val_mean_squared_error: 597.3483 - val_mean_absolute_error: 22.6457\n",
            "Epoch 71/150\n",
            "323/323 [==============================] - 0s 56us/sample - loss: 528.5834 - mean_squared_error: 528.5834 - mean_absolute_error: 21.0814 - val_loss: 597.3483 - val_mean_squared_error: 597.3482 - val_mean_absolute_error: 22.6457\n",
            "Epoch 72/150\n",
            "323/323 [==============================] - 0s 57us/sample - loss: 528.5834 - mean_squared_error: 528.5834 - mean_absolute_error: 21.0814 - val_loss: 597.3483 - val_mean_squared_error: 597.3483 - val_mean_absolute_error: 22.6457\n",
            "Epoch 73/150\n",
            "323/323 [==============================] - 0s 59us/sample - loss: 528.5834 - mean_squared_error: 528.5834 - mean_absolute_error: 21.0814 - val_loss: 597.3483 - val_mean_squared_error: 597.3483 - val_mean_absolute_error: 22.6457\n",
            "Epoch 74/150\n",
            "323/323 [==============================] - 0s 67us/sample - loss: 528.5834 - mean_squared_error: 528.5834 - mean_absolute_error: 21.0814 - val_loss: 597.3483 - val_mean_squared_error: 597.3483 - val_mean_absolute_error: 22.6457\n",
            "Epoch 75/150\n",
            "323/323 [==============================] - 0s 70us/sample - loss: 528.5834 - mean_squared_error: 528.5834 - mean_absolute_error: 21.0814 - val_loss: 597.3483 - val_mean_squared_error: 597.3483 - val_mean_absolute_error: 22.6457\n",
            "Epoch 76/150\n",
            "323/323 [==============================] - 0s 58us/sample - loss: 528.5834 - mean_squared_error: 528.5834 - mean_absolute_error: 21.0814 - val_loss: 597.3483 - val_mean_squared_error: 597.3483 - val_mean_absolute_error: 22.6457\n",
            "Epoch 77/150\n",
            "323/323 [==============================] - 0s 56us/sample - loss: 528.5834 - mean_squared_error: 528.5834 - mean_absolute_error: 21.0814 - val_loss: 597.3483 - val_mean_squared_error: 597.3483 - val_mean_absolute_error: 22.6457\n",
            "Epoch 78/150\n",
            "323/323 [==============================] - 0s 60us/sample - loss: 528.5834 - mean_squared_error: 528.5834 - mean_absolute_error: 21.0814 - val_loss: 597.3483 - val_mean_squared_error: 597.3483 - val_mean_absolute_error: 22.6457\n",
            "Epoch 79/150\n",
            "323/323 [==============================] - 0s 77us/sample - loss: 528.5834 - mean_squared_error: 528.5834 - mean_absolute_error: 21.0814 - val_loss: 597.3483 - val_mean_squared_error: 597.3483 - val_mean_absolute_error: 22.6457\n",
            "Epoch 80/150\n",
            "323/323 [==============================] - 0s 56us/sample - loss: 528.5834 - mean_squared_error: 528.5834 - mean_absolute_error: 21.0814 - val_loss: 597.3483 - val_mean_squared_error: 597.3483 - val_mean_absolute_error: 22.6457\n",
            "Epoch 81/150\n",
            "323/323 [==============================] - 0s 63us/sample - loss: 528.5834 - mean_squared_error: 528.5834 - mean_absolute_error: 21.0814 - val_loss: 597.3483 - val_mean_squared_error: 597.3483 - val_mean_absolute_error: 22.6457\n",
            "Epoch 82/150\n",
            "323/323 [==============================] - 0s 60us/sample - loss: 528.5834 - mean_squared_error: 528.5834 - mean_absolute_error: 21.0814 - val_loss: 597.3483 - val_mean_squared_error: 597.3482 - val_mean_absolute_error: 22.6457\n",
            "Epoch 83/150\n",
            "323/323 [==============================] - 0s 61us/sample - loss: 528.5834 - mean_squared_error: 528.5834 - mean_absolute_error: 21.0814 - val_loss: 597.3483 - val_mean_squared_error: 597.3483 - val_mean_absolute_error: 22.6457\n",
            "Epoch 84/150\n",
            "323/323 [==============================] - 0s 56us/sample - loss: 528.5834 - mean_squared_error: 528.5834 - mean_absolute_error: 21.0814 - val_loss: 597.3483 - val_mean_squared_error: 597.3483 - val_mean_absolute_error: 22.6457\n",
            "Epoch 85/150\n",
            "323/323 [==============================] - 0s 64us/sample - loss: 528.5834 - mean_squared_error: 528.5834 - mean_absolute_error: 21.0814 - val_loss: 597.3483 - val_mean_squared_error: 597.3483 - val_mean_absolute_error: 22.6457\n",
            "Epoch 86/150\n",
            "323/323 [==============================] - 0s 68us/sample - loss: 528.5834 - mean_squared_error: 528.5834 - mean_absolute_error: 21.0814 - val_loss: 597.3483 - val_mean_squared_error: 597.3483 - val_mean_absolute_error: 22.6457\n",
            "Epoch 87/150\n",
            "323/323 [==============================] - 0s 74us/sample - loss: 528.5834 - mean_squared_error: 528.5834 - mean_absolute_error: 21.0814 - val_loss: 597.3483 - val_mean_squared_error: 597.3483 - val_mean_absolute_error: 22.6457\n",
            "Epoch 88/150\n",
            "323/323 [==============================] - 0s 60us/sample - loss: 528.5834 - mean_squared_error: 528.5834 - mean_absolute_error: 21.0814 - val_loss: 597.3483 - val_mean_squared_error: 597.3483 - val_mean_absolute_error: 22.6457\n",
            "Epoch 89/150\n",
            "323/323 [==============================] - 0s 76us/sample - loss: 528.5834 - mean_squared_error: 528.5834 - mean_absolute_error: 21.0814 - val_loss: 597.3483 - val_mean_squared_error: 597.3483 - val_mean_absolute_error: 22.6457\n",
            "Epoch 90/150\n",
            "323/323 [==============================] - 0s 57us/sample - loss: 528.5834 - mean_squared_error: 528.5833 - mean_absolute_error: 21.0814 - val_loss: 597.3483 - val_mean_squared_error: 597.3483 - val_mean_absolute_error: 22.6457\n",
            "Epoch 91/150\n",
            "323/323 [==============================] - 0s 64us/sample - loss: 528.5834 - mean_squared_error: 528.5834 - mean_absolute_error: 21.0814 - val_loss: 597.3483 - val_mean_squared_error: 597.3483 - val_mean_absolute_error: 22.6457\n",
            "Epoch 92/150\n",
            "323/323 [==============================] - 0s 57us/sample - loss: 528.5834 - mean_squared_error: 528.5834 - mean_absolute_error: 21.0814 - val_loss: 597.3482 - val_mean_squared_error: 597.3482 - val_mean_absolute_error: 22.6457\n",
            "Epoch 93/150\n",
            "323/323 [==============================] - 0s 60us/sample - loss: 528.5834 - mean_squared_error: 528.5834 - mean_absolute_error: 21.0814 - val_loss: 597.3483 - val_mean_squared_error: 597.3483 - val_mean_absolute_error: 22.6457\n",
            "Epoch 94/150\n",
            "323/323 [==============================] - 0s 60us/sample - loss: 528.5834 - mean_squared_error: 528.5834 - mean_absolute_error: 21.0814 - val_loss: 597.3483 - val_mean_squared_error: 597.3482 - val_mean_absolute_error: 22.6457\n",
            "Epoch 95/150\n",
            "323/323 [==============================] - 0s 74us/sample - loss: 528.5834 - mean_squared_error: 528.5834 - mean_absolute_error: 21.0814 - val_loss: 597.3483 - val_mean_squared_error: 597.3483 - val_mean_absolute_error: 22.6457\n",
            "Epoch 96/150\n",
            "323/323 [==============================] - 0s 61us/sample - loss: 528.5834 - mean_squared_error: 528.5834 - mean_absolute_error: 21.0814 - val_loss: 597.3483 - val_mean_squared_error: 597.3483 - val_mean_absolute_error: 22.6457\n",
            "Epoch 97/150\n",
            "323/323 [==============================] - 0s 62us/sample - loss: 528.5834 - mean_squared_error: 528.5834 - mean_absolute_error: 21.0814 - val_loss: 597.3483 - val_mean_squared_error: 597.3483 - val_mean_absolute_error: 22.6457\n",
            "Epoch 98/150\n",
            "323/323 [==============================] - 0s 58us/sample - loss: 528.5834 - mean_squared_error: 528.5834 - mean_absolute_error: 21.0814 - val_loss: 597.3483 - val_mean_squared_error: 597.3482 - val_mean_absolute_error: 22.6457\n",
            "Epoch 99/150\n",
            "323/323 [==============================] - 0s 63us/sample - loss: 528.5834 - mean_squared_error: 528.5834 - mean_absolute_error: 21.0814 - val_loss: 597.3483 - val_mean_squared_error: 597.3483 - val_mean_absolute_error: 22.6457\n",
            "Epoch 100/150\n",
            "323/323 [==============================] - 0s 68us/sample - loss: 528.5834 - mean_squared_error: 528.5834 - mean_absolute_error: 21.0814 - val_loss: 597.3483 - val_mean_squared_error: 597.3483 - val_mean_absolute_error: 22.6457\n",
            "Epoch 101/150\n",
            "323/323 [==============================] - 0s 58us/sample - loss: 528.5834 - mean_squared_error: 528.5834 - mean_absolute_error: 21.0814 - val_loss: 597.3483 - val_mean_squared_error: 597.3483 - val_mean_absolute_error: 22.6457\n",
            "Epoch 102/150\n",
            "323/323 [==============================] - 0s 58us/sample - loss: 528.5834 - mean_squared_error: 528.5834 - mean_absolute_error: 21.0814 - val_loss: 597.3483 - val_mean_squared_error: 597.3483 - val_mean_absolute_error: 22.6457\n",
            "Epoch 103/150\n",
            "323/323 [==============================] - 0s 73us/sample - loss: 528.5834 - mean_squared_error: 528.5834 - mean_absolute_error: 21.0814 - val_loss: 597.3482 - val_mean_squared_error: 597.3482 - val_mean_absolute_error: 22.6457\n",
            "Epoch 104/150\n",
            "323/323 [==============================] - 0s 67us/sample - loss: 528.5834 - mean_squared_error: 528.5834 - mean_absolute_error: 21.0814 - val_loss: 597.3483 - val_mean_squared_error: 597.3483 - val_mean_absolute_error: 22.6457\n",
            "Epoch 105/150\n",
            "323/323 [==============================] - 0s 56us/sample - loss: 528.5834 - mean_squared_error: 528.5834 - mean_absolute_error: 21.0814 - val_loss: 597.3483 - val_mean_squared_error: 597.3483 - val_mean_absolute_error: 22.6457\n",
            "Epoch 106/150\n",
            "323/323 [==============================] - 0s 68us/sample - loss: 528.5834 - mean_squared_error: 528.5834 - mean_absolute_error: 21.0814 - val_loss: 597.3483 - val_mean_squared_error: 597.3483 - val_mean_absolute_error: 22.6457\n",
            "Epoch 107/150\n",
            "323/323 [==============================] - 0s 55us/sample - loss: 528.5834 - mean_squared_error: 528.5834 - mean_absolute_error: 21.0814 - val_loss: 597.3483 - val_mean_squared_error: 597.3483 - val_mean_absolute_error: 22.6457\n",
            "Epoch 108/150\n",
            "323/323 [==============================] - 0s 60us/sample - loss: 528.5834 - mean_squared_error: 528.5834 - mean_absolute_error: 21.0814 - val_loss: 597.3483 - val_mean_squared_error: 597.3483 - val_mean_absolute_error: 22.6457\n",
            "Epoch 109/150\n",
            "323/323 [==============================] - 0s 65us/sample - loss: 528.5834 - mean_squared_error: 528.5834 - mean_absolute_error: 21.0814 - val_loss: 597.3483 - val_mean_squared_error: 597.3483 - val_mean_absolute_error: 22.6457\n",
            "Epoch 110/150\n",
            "323/323 [==============================] - 0s 68us/sample - loss: 528.5834 - mean_squared_error: 528.5834 - mean_absolute_error: 21.0814 - val_loss: 597.3483 - val_mean_squared_error: 597.3483 - val_mean_absolute_error: 22.6457\n",
            "Epoch 111/150\n",
            "323/323 [==============================] - 0s 61us/sample - loss: 528.5834 - mean_squared_error: 528.5834 - mean_absolute_error: 21.0814 - val_loss: 597.3483 - val_mean_squared_error: 597.3483 - val_mean_absolute_error: 22.6457\n",
            "Epoch 112/150\n",
            "323/323 [==============================] - 0s 61us/sample - loss: 528.5834 - mean_squared_error: 528.5834 - mean_absolute_error: 21.0814 - val_loss: 597.3483 - val_mean_squared_error: 597.3483 - val_mean_absolute_error: 22.6457\n",
            "Epoch 113/150\n",
            "323/323 [==============================] - 0s 70us/sample - loss: 528.5834 - mean_squared_error: 528.5834 - mean_absolute_error: 21.0814 - val_loss: 597.3483 - val_mean_squared_error: 597.3483 - val_mean_absolute_error: 22.6457\n",
            "Epoch 114/150\n",
            "323/323 [==============================] - 0s 57us/sample - loss: 528.5834 - mean_squared_error: 528.5834 - mean_absolute_error: 21.0814 - val_loss: 597.3483 - val_mean_squared_error: 597.3483 - val_mean_absolute_error: 22.6457\n",
            "Epoch 115/150\n",
            "323/323 [==============================] - 0s 65us/sample - loss: 528.5834 - mean_squared_error: 528.5834 - mean_absolute_error: 21.0814 - val_loss: 597.3483 - val_mean_squared_error: 597.3483 - val_mean_absolute_error: 22.6457\n",
            "Epoch 116/150\n",
            "323/323 [==============================] - 0s 62us/sample - loss: 528.5834 - mean_squared_error: 528.5834 - mean_absolute_error: 21.0814 - val_loss: 597.3483 - val_mean_squared_error: 597.3483 - val_mean_absolute_error: 22.6457\n",
            "Epoch 117/150\n",
            "323/323 [==============================] - 0s 67us/sample - loss: 528.5834 - mean_squared_error: 528.5834 - mean_absolute_error: 21.0814 - val_loss: 597.3483 - val_mean_squared_error: 597.3483 - val_mean_absolute_error: 22.6457\n",
            "Epoch 118/150\n",
            "323/323 [==============================] - 0s 65us/sample - loss: 528.5834 - mean_squared_error: 528.5834 - mean_absolute_error: 21.0814 - val_loss: 597.3483 - val_mean_squared_error: 597.3483 - val_mean_absolute_error: 22.6457\n",
            "Epoch 119/150\n",
            "323/323 [==============================] - 0s 58us/sample - loss: 528.5834 - mean_squared_error: 528.5834 - mean_absolute_error: 21.0814 - val_loss: 597.3483 - val_mean_squared_error: 597.3483 - val_mean_absolute_error: 22.6457\n",
            "Epoch 120/150\n",
            "323/323 [==============================] - 0s 75us/sample - loss: 528.5834 - mean_squared_error: 528.5834 - mean_absolute_error: 21.0814 - val_loss: 597.3483 - val_mean_squared_error: 597.3483 - val_mean_absolute_error: 22.6457\n",
            "Epoch 121/150\n",
            "323/323 [==============================] - 0s 56us/sample - loss: 528.5834 - mean_squared_error: 528.5834 - mean_absolute_error: 21.0814 - val_loss: 597.3483 - val_mean_squared_error: 597.3482 - val_mean_absolute_error: 22.6457\n",
            "Epoch 122/150\n",
            "323/323 [==============================] - 0s 75us/sample - loss: 528.5834 - mean_squared_error: 528.5834 - mean_absolute_error: 21.0814 - val_loss: 597.3482 - val_mean_squared_error: 597.3482 - val_mean_absolute_error: 22.6457\n",
            "Epoch 123/150\n",
            "323/323 [==============================] - 0s 65us/sample - loss: 528.5834 - mean_squared_error: 528.5834 - mean_absolute_error: 21.0814 - val_loss: 597.3483 - val_mean_squared_error: 597.3483 - val_mean_absolute_error: 22.6457\n",
            "Epoch 124/150\n",
            "323/323 [==============================] - 0s 68us/sample - loss: 528.5834 - mean_squared_error: 528.5834 - mean_absolute_error: 21.0814 - val_loss: 597.3483 - val_mean_squared_error: 597.3483 - val_mean_absolute_error: 22.6457\n",
            "Epoch 125/150\n",
            "323/323 [==============================] - 0s 67us/sample - loss: 528.5834 - mean_squared_error: 528.5834 - mean_absolute_error: 21.0814 - val_loss: 597.3483 - val_mean_squared_error: 597.3483 - val_mean_absolute_error: 22.6457\n",
            "Epoch 126/150\n",
            "323/323 [==============================] - 0s 72us/sample - loss: 528.5834 - mean_squared_error: 528.5834 - mean_absolute_error: 21.0814 - val_loss: 597.3483 - val_mean_squared_error: 597.3483 - val_mean_absolute_error: 22.6457\n",
            "Epoch 127/150\n",
            "323/323 [==============================] - 0s 58us/sample - loss: 528.5834 - mean_squared_error: 528.5834 - mean_absolute_error: 21.0814 - val_loss: 597.3483 - val_mean_squared_error: 597.3483 - val_mean_absolute_error: 22.6457\n",
            "Epoch 128/150\n",
            "323/323 [==============================] - 0s 58us/sample - loss: 528.5834 - mean_squared_error: 528.5834 - mean_absolute_error: 21.0814 - val_loss: 597.3483 - val_mean_squared_error: 597.3483 - val_mean_absolute_error: 22.6457\n",
            "Epoch 129/150\n",
            "323/323 [==============================] - 0s 63us/sample - loss: 528.5834 - mean_squared_error: 528.5834 - mean_absolute_error: 21.0814 - val_loss: 597.3483 - val_mean_squared_error: 597.3483 - val_mean_absolute_error: 22.6457\n",
            "Epoch 130/150\n",
            "323/323 [==============================] - 0s 74us/sample - loss: 528.5834 - mean_squared_error: 528.5834 - mean_absolute_error: 21.0814 - val_loss: 597.3483 - val_mean_squared_error: 597.3483 - val_mean_absolute_error: 22.6457\n",
            "Epoch 131/150\n",
            "323/323 [==============================] - 0s 60us/sample - loss: 528.5834 - mean_squared_error: 528.5834 - mean_absolute_error: 21.0814 - val_loss: 597.3483 - val_mean_squared_error: 597.3483 - val_mean_absolute_error: 22.6457\n",
            "Epoch 132/150\n",
            "323/323 [==============================] - 0s 64us/sample - loss: 528.5834 - mean_squared_error: 528.5834 - mean_absolute_error: 21.0814 - val_loss: 597.3482 - val_mean_squared_error: 597.3482 - val_mean_absolute_error: 22.6457\n",
            "Epoch 133/150\n",
            "323/323 [==============================] - 0s 72us/sample - loss: 528.5834 - mean_squared_error: 528.5834 - mean_absolute_error: 21.0814 - val_loss: 597.3483 - val_mean_squared_error: 597.3483 - val_mean_absolute_error: 22.6457\n",
            "Epoch 134/150\n",
            "323/323 [==============================] - 0s 64us/sample - loss: 528.5834 - mean_squared_error: 528.5834 - mean_absolute_error: 21.0814 - val_loss: 597.3483 - val_mean_squared_error: 597.3483 - val_mean_absolute_error: 22.6457\n",
            "Epoch 135/150\n",
            "323/323 [==============================] - 0s 61us/sample - loss: 528.5834 - mean_squared_error: 528.5834 - mean_absolute_error: 21.0814 - val_loss: 597.3483 - val_mean_squared_error: 597.3483 - val_mean_absolute_error: 22.6457\n",
            "Epoch 136/150\n",
            "323/323 [==============================] - 0s 61us/sample - loss: 528.5834 - mean_squared_error: 528.5834 - mean_absolute_error: 21.0814 - val_loss: 597.3483 - val_mean_squared_error: 597.3483 - val_mean_absolute_error: 22.6457\n",
            "Epoch 137/150\n",
            "323/323 [==============================] - 0s 55us/sample - loss: 528.5834 - mean_squared_error: 528.5834 - mean_absolute_error: 21.0814 - val_loss: 597.3483 - val_mean_squared_error: 597.3483 - val_mean_absolute_error: 22.6457\n",
            "Epoch 138/150\n",
            "323/323 [==============================] - 0s 55us/sample - loss: 528.5834 - mean_squared_error: 528.5834 - mean_absolute_error: 21.0814 - val_loss: 597.3483 - val_mean_squared_error: 597.3483 - val_mean_absolute_error: 22.6457\n",
            "Epoch 139/150\n",
            "323/323 [==============================] - 0s 55us/sample - loss: 528.5834 - mean_squared_error: 528.5834 - mean_absolute_error: 21.0814 - val_loss: 597.3483 - val_mean_squared_error: 597.3483 - val_mean_absolute_error: 22.6457\n",
            "Epoch 140/150\n",
            "323/323 [==============================] - 0s 64us/sample - loss: 528.5834 - mean_squared_error: 528.5834 - mean_absolute_error: 21.0814 - val_loss: 597.3483 - val_mean_squared_error: 597.3483 - val_mean_absolute_error: 22.6457\n",
            "Epoch 141/150\n",
            "323/323 [==============================] - 0s 68us/sample - loss: 528.5834 - mean_squared_error: 528.5834 - mean_absolute_error: 21.0814 - val_loss: 597.3482 - val_mean_squared_error: 597.3482 - val_mean_absolute_error: 22.6457\n",
            "Epoch 142/150\n",
            "323/323 [==============================] - 0s 68us/sample - loss: 528.5834 - mean_squared_error: 528.5834 - mean_absolute_error: 21.0814 - val_loss: 597.3483 - val_mean_squared_error: 597.3483 - val_mean_absolute_error: 22.6457\n",
            "Epoch 143/150\n",
            "323/323 [==============================] - 0s 63us/sample - loss: 528.5834 - mean_squared_error: 528.5834 - mean_absolute_error: 21.0814 - val_loss: 597.3483 - val_mean_squared_error: 597.3483 - val_mean_absolute_error: 22.6457\n",
            "Epoch 144/150\n",
            "323/323 [==============================] - 0s 70us/sample - loss: 528.5834 - mean_squared_error: 528.5834 - mean_absolute_error: 21.0814 - val_loss: 597.3483 - val_mean_squared_error: 597.3483 - val_mean_absolute_error: 22.6457\n",
            "Epoch 145/150\n",
            "323/323 [==============================] - 0s 68us/sample - loss: 528.5834 - mean_squared_error: 528.5834 - mean_absolute_error: 21.0814 - val_loss: 597.3483 - val_mean_squared_error: 597.3483 - val_mean_absolute_error: 22.6457\n",
            "Epoch 146/150\n",
            "323/323 [==============================] - 0s 67us/sample - loss: 528.5834 - mean_squared_error: 528.5834 - mean_absolute_error: 21.0814 - val_loss: 597.3483 - val_mean_squared_error: 597.3483 - val_mean_absolute_error: 22.6457\n",
            "Epoch 147/150\n",
            "323/323 [==============================] - 0s 57us/sample - loss: 528.5834 - mean_squared_error: 528.5834 - mean_absolute_error: 21.0814 - val_loss: 597.3483 - val_mean_squared_error: 597.3483 - val_mean_absolute_error: 22.6457\n",
            "Epoch 148/150\n",
            "323/323 [==============================] - 0s 57us/sample - loss: 528.5834 - mean_squared_error: 528.5834 - mean_absolute_error: 21.0814 - val_loss: 597.3483 - val_mean_squared_error: 597.3483 - val_mean_absolute_error: 22.6457\n",
            "Epoch 149/150\n",
            "323/323 [==============================] - 0s 60us/sample - loss: 528.5834 - mean_squared_error: 528.5834 - mean_absolute_error: 21.0814 - val_loss: 597.3482 - val_mean_squared_error: 597.3482 - val_mean_absolute_error: 22.6457\n",
            "Epoch 150/150\n",
            "323/323 [==============================] - 0s 65us/sample - loss: 528.5834 - mean_squared_error: 528.5834 - mean_absolute_error: 21.0814 - val_loss: 597.3483 - val_mean_squared_error: 597.3483 - val_mean_absolute_error: 22.6457\n"
          ],
          "name": "stdout"
        }
      ]
    },
    {
      "cell_type": "code",
      "metadata": {
        "id": "rqR3UOEj150h",
        "colab_type": "code",
        "outputId": "916d7b59-f88d-4d57-cb5f-dcc34744a79f",
        "colab": {
          "base_uri": "https://localhost:8080/",
          "height": 610
        }
      },
      "source": [
        "# 7. Use the history object that is returned \n",
        "# from model.fit to make graphs of the model's loss \n",
        "# or train/validation accuracies by epoch\n",
        "\n",
        "\n",
        "# The model.fit method returns a History callback, which has a history attribute \n",
        "# containing the lists of successive losses and other metrics.\n",
        "print(hist.history)\n",
        "\n",
        "import matplotlib.pyplot as plt\n",
        "\n",
        "# Plot training & validation mse values\n",
        "plt.plot(hist.history['mean_squared_error'])\n",
        "plt.plot(hist.history['val_mean_squared_error'])\n",
        "plt.title('Model mse')\n",
        "plt.ylabel('Mse')\n",
        "plt.xlabel('Epoch')\n",
        "plt.legend(['Train', 'Test'], loc='upper left')\n",
        "plt.show()\n",
        "\n",
        "# Plot training & validation loss values\n",
        "plt.plot(hist.history['loss'])\n",
        "plt.plot(hist.history['val_loss'])\n",
        "plt.title('Model loss')\n",
        "plt.ylabel('Loss')\n",
        "plt.xlabel('Epoch')\n",
        "plt.legend(['Train', 'Test'], loc='upper left')\n",
        "plt.show()"
      ],
      "execution_count": 0,
      "outputs": [
        {
          "output_type": "stream",
          "text": [
            "{'loss': [528.5833759130708, 528.5833787002799, 528.5833796923374, 528.5833846053841, 528.5833900853207, 528.5833734565475, 528.5833879122424, 528.5833790309658, 528.5833770468508, 528.5833692993542, 528.5833771413324, 528.5833864950174, 528.5833678821292, 528.5833757241074, 528.5833732675842, 528.5833864950174, 528.5833661814593, 528.5833761020342, 528.5833806371542, 528.5833832826407, 528.5833783695941, 528.5833795978558, 528.5833784640758, 528.5833794088925, 528.5833785113166, 528.5833661814593, 528.5833829991958, 528.583360040151, 528.5833739761966, 528.5833844164208, 528.5833746848092, 528.5833891405041, 528.5833741179192, 528.5833736455108, 528.5833890460224, 528.5833785585575, 528.5833897073941, 528.5833708110608, 528.5833688269458, 528.5833757241074, 528.5833864950174, 528.5833793144108, 528.5833960376657, 528.5833819598975, 528.5833738344742, 528.5833765272016, 528.5833808261175, 528.5833730786209, 528.5833740234375, 528.5833793144108, 528.5833796923374, 528.5833819598975, 528.5833699607259, 528.5833851722741, 528.5833779916675, 528.5833752516992, 528.5833706220975, 528.5833795978558, 528.5833827157508, 528.5833774247775, 528.5833844164208, 528.5833843219391, 528.5833711889875, 528.5833766689242, 528.5833883846508, 528.5833740234375, 528.5833771413324, 528.5833778971858, 528.5833779916675, 528.5833864950174, 528.5833802592275, 528.5833759130708, 528.5833915025457, 528.5833744958459, 528.5833932976974, 528.5833885736141, 528.5833910301374, 528.5833757241074, 528.5833766689242, 528.5833699607259, 528.5833934866607, 528.5833727006942, 528.5833774247775, 528.5833821488608, 528.5833706220975, 528.5833720393225, 528.5833851722741, 528.5833797395783, 528.5833738344742, 528.5833686379825, 528.5833966045557, 528.5833775192591, 528.5833857391641, 528.5833796923374, 528.5833691103909, 528.5833785585575, 528.5833770468508, 528.5833698662442, 528.5833778971858, 528.5833751572175, 528.5833779916675, 528.5833823378241, 528.5833674097208, 528.583382385065, 528.5833696772809, 528.5833802592275, 528.5833738344742, 528.5833781806308, 528.5833736455108, 528.5833830936774, 528.5833672207575, 528.583362591156, 528.5833797868191, 528.5833714724325, 528.5833885736141, 528.5833796923374, 528.5833736455108, 528.5833691103909, 528.5833793144108, 528.5833713779508, 528.5833684490192, 528.5833859281274, 528.5833852667557, 528.5833736455108, 528.5833757241074, 528.5833736455108, 528.5833779916675, 528.5833794088925, 528.5833775192591, 528.5833761965158, 528.5833748737725, 528.583395376294, 528.5833834716041, 528.5833757241074, 528.583390841174, 528.5833599456693, 528.5833781806308, 528.5833744013642, 528.5833753461808, 528.5833801647458, 528.5833691103909, 528.5833798813007, 528.5833637721768, 528.5833821488608, 528.5833685435009, 528.5833766689242, 528.5833830936774, 528.5833872508707, 528.5833651421609, 528.5833721338042], 'mean_squared_error': [528.5834, 528.5834, 528.5834, 528.5834, 528.5834, 528.5834, 528.5834, 528.5834, 528.5834, 528.5834, 528.58344, 528.5834, 528.5834, 528.5834, 528.5834, 528.5834, 528.5833, 528.5834, 528.5834, 528.5834, 528.5834, 528.5834, 528.5833, 528.5834, 528.5834, 528.5834, 528.5834, 528.5833, 528.5834, 528.5834, 528.5834, 528.5834, 528.5834, 528.5834, 528.5834, 528.5834, 528.5834, 528.5834, 528.5833, 528.5834, 528.58344, 528.5834, 528.5834, 528.5834, 528.5834, 528.5834, 528.5834, 528.5834, 528.5834, 528.5834, 528.5834, 528.5834, 528.5834, 528.5834, 528.5834, 528.5834, 528.5834, 528.5834, 528.58344, 528.5834, 528.58344, 528.58344, 528.5834, 528.5834, 528.5834, 528.5834, 528.5834, 528.5833, 528.5834, 528.5834, 528.5834, 528.5834, 528.58344, 528.5834, 528.5834, 528.5834, 528.5834, 528.5834, 528.5834, 528.5834, 528.5834, 528.5834, 528.5834, 528.5834, 528.5834, 528.5834, 528.5834, 528.5834, 528.5834, 528.5833, 528.5834, 528.5834, 528.58344, 528.5834, 528.5834, 528.5834, 528.58344, 528.5834, 528.5834, 528.5834, 528.5834, 528.5834, 528.5834, 528.5834, 528.5834, 528.5834, 528.5834, 528.5834, 528.5834, 528.5834, 528.5834, 528.5834, 528.5834, 528.5834, 528.5834, 528.5834, 528.5834, 528.5834, 528.5834, 528.5834, 528.5834, 528.5834, 528.5834, 528.5834, 528.5834, 528.5834, 528.5834, 528.5834, 528.5834, 528.5834, 528.5834, 528.5834, 528.5834, 528.58344, 528.5834, 528.5834, 528.5834, 528.5834, 528.5834, 528.5834, 528.5834, 528.5834, 528.5834, 528.5834, 528.5834, 528.5834, 528.5834, 528.5834, 528.58344, 528.5834], 'mean_absolute_error': [21.081423, 21.081427, 21.081423, 21.081425, 21.081423, 21.081425, 21.081427, 21.081423, 21.081423, 21.081423, 21.081425, 21.081425, 21.081427, 21.081423, 21.081425, 21.081423, 21.081427, 21.081425, 21.081425, 21.081423, 21.081423, 21.081425, 21.081423, 21.081425, 21.081423, 21.081425, 21.081425, 21.081423, 21.081425, 21.081425, 21.081423, 21.081427, 21.081427, 21.081423, 21.081425, 21.081425, 21.081425, 21.081423, 21.081425, 21.081425, 21.081427, 21.081423, 21.081423, 21.081423, 21.081423, 21.081423, 21.081425, 21.081423, 21.081423, 21.081423, 21.081423, 21.081425, 21.081423, 21.081423, 21.081423, 21.081423, 21.081425, 21.081423, 21.081425, 21.081423, 21.081427, 21.081423, 21.081425, 21.081425, 21.081423, 21.081423, 21.081423, 21.081425, 21.081423, 21.081427, 21.081425, 21.081425, 21.081425, 21.081423, 21.081423, 21.081423, 21.081425, 21.081425, 21.081423, 21.081425, 21.081423, 21.081423, 21.081425, 21.081425, 21.081425, 21.081423, 21.081423, 21.081425, 21.081427, 21.081425, 21.081425, 21.081427, 21.081425, 21.081425, 21.081423, 21.081423, 21.081425, 21.081423, 21.081425, 21.081423, 21.081425, 21.081423, 21.081423, 21.081423, 21.081423, 21.081423, 21.081425, 21.081423, 21.081423, 21.081425, 21.081423, 21.081425, 21.081423, 21.081425, 21.081425, 21.081423, 21.081423, 21.081425, 21.081423, 21.081423, 21.081423, 21.081423, 21.081423, 21.081423, 21.081423, 21.081423, 21.081423, 21.081423, 21.081427, 21.081423, 21.081425, 21.081425, 21.081423, 21.081425, 21.081423, 21.081423, 21.081425, 21.081423, 21.081425, 21.081423, 21.081423, 21.081425, 21.081427, 21.081425, 21.081425, 21.081423, 21.081423, 21.081423, 21.081425, 21.081425], 'val_loss': [597.3482545452354, 597.3482737600068, 597.3482941050588, 597.3482794114101, 597.3482711226852, 597.3482790346499, 597.3482666015625, 597.348276020568, 597.3482718762057, 597.3482816719714, 597.3482424889082, 597.3482545452354, 597.3482914677372, 597.3482771508487, 597.3482733832466, 597.3482447494695, 597.3482560522763, 597.3482409818673, 597.348243995949, 597.3482643410011, 597.3482650945216, 597.3482937282986, 597.3482598198784, 597.3482752670476, 597.348274136767, 597.3482417353878, 597.3482786578896, 597.3482711226852, 597.3482718762057, 597.3482711226852, 597.3482869466146, 597.3482666015625, 597.3482530381945, 597.3482666015625, 597.3482726297261, 597.348259066358, 597.3482688621239, 597.3482861930942, 597.3482711226852, 597.3482952353395, 597.3482711226852, 597.3482779043692, 597.3482828022521, 597.348284309293, 597.3482771508487, 597.3482485170717, 597.3482703691648, 597.3482507776331, 597.3483087987075, 597.3482496473524, 597.3482846860533, 597.348259066358, 597.3482839325328, 597.3482696156443, 597.3482914677372, 597.3482496473524, 597.3482643410011, 597.3482899606963, 597.3482899606963, 597.348291090977, 597.3482681086034, 597.348280918451, 597.3482801649305, 597.3482831790124, 597.348289207176, 597.3482666015625, 597.3482696156443, 597.3482816719714, 597.3482552987558, 597.348267355083, 597.3482579360774, 597.3482997564622, 597.3482643410011, 597.3482952353395, 597.3482666015625, 597.3482714994454, 597.3482598198784, 597.3482779043692, 597.3482854395737, 597.3482605733989, 597.3482914677372, 597.3482669783227, 597.3482711226852, 597.3483072916666, 597.3482666015625, 597.3482779043692, 597.3482854395737, 597.3482507776331, 597.3482914677372, 597.3482681086034, 597.3482941050588, 597.3482409818673, 597.3482831790124, 597.3482681086034, 597.3482850628135, 597.3482786578896, 597.3482568057967, 597.3482752670476, 597.3482974959009, 597.348280918451, 597.3482914677372, 597.348259066358, 597.3482473867911, 597.3482620804398, 597.3482839325328, 597.3482564290365, 597.3482831790124, 597.3482786578896, 597.3482733832466, 597.3482703691648, 597.3482899606963, 597.3482884536555, 597.348280918451, 597.3482733832466, 597.3482786578896, 597.348289207176, 597.3482997564622, 597.3482869466146, 597.3482801649305, 597.3482820487317, 597.3482560522763, 597.3482342001832, 597.3482877001351, 597.3482643410011, 597.348289207176, 597.3482598198784, 597.3482575593172, 597.3482794114101, 597.3482756438078, 597.3482888304158, 597.3482752670476, 597.3482417353878, 597.348280918451, 597.3482643410011, 597.3482617036796, 597.3482937282986, 597.3482854395737, 597.3482869466146, 597.3482816719714, 597.3483012635031, 597.3482447494695, 597.3482952353395, 597.3482974959009, 597.3483080451871, 597.3482816719714, 597.3482861930942, 597.3482650945216, 597.3482877001351, 597.3482455029899, 597.3482688621239], 'val_mean_squared_error': [597.34827, 597.34827, 597.3483, 597.34827, 597.34827, 597.34827, 597.34827, 597.34827, 597.3482, 597.34827, 597.34827, 597.34827, 597.34827, 597.34827, 597.34827, 597.34827, 597.3482, 597.3482, 597.3482, 597.34827, 597.34827, 597.34827, 597.34827, 597.34827, 597.3482, 597.34827, 597.34827, 597.3482, 597.34827, 597.34827, 597.34827, 597.3482, 597.34827, 597.34827, 597.34827, 597.34827, 597.34827, 597.34827, 597.34827, 597.3483, 597.34827, 597.34827, 597.34827, 597.34827, 597.34827, 597.3482, 597.34827, 597.34827, 597.3483, 597.3482, 597.34827, 597.34827, 597.34827, 597.34827, 597.3483, 597.3482, 597.34827, 597.34827, 597.34827, 597.34827, 597.34827, 597.34827, 597.34827, 597.34827, 597.34827, 597.34827, 597.34827, 597.34827, 597.34827, 597.34827, 597.3482, 597.34827, 597.34827, 597.34827, 597.34827, 597.34827, 597.34827, 597.34827, 597.34827, 597.34827, 597.3483, 597.3482, 597.34827, 597.34827, 597.34827, 597.34827, 597.34827, 597.34827, 597.34827, 597.34827, 597.3483, 597.3482, 597.34827, 597.3482, 597.34827, 597.34827, 597.34827, 597.3482, 597.34827, 597.34827, 597.34827, 597.34827, 597.3482, 597.34827, 597.34827, 597.34827, 597.34827, 597.34827, 597.34827, 597.34827, 597.34827, 597.34827, 597.34827, 597.34827, 597.34827, 597.34827, 597.34827, 597.34827, 597.34827, 597.34827, 597.3482, 597.3482, 597.34827, 597.34827, 597.34827, 597.34827, 597.34827, 597.34827, 597.34827, 597.3483, 597.34827, 597.3482, 597.34827, 597.34827, 597.34827, 597.34827, 597.34827, 597.34827, 597.34827, 597.34827, 597.3482, 597.34827, 597.34827, 597.3483, 597.34827, 597.34827, 597.34827, 597.34827, 597.3482, 597.34827], 'val_mean_absolute_error': [22.64568, 22.64568, 22.645678, 22.645678, 22.645678, 22.645678, 22.64568, 22.645678, 22.64568, 22.64568, 22.645681, 22.64568, 22.645678, 22.645678, 22.64568, 22.64568, 22.64568, 22.645678, 22.64568, 22.64568, 22.64568, 22.64568, 22.645676, 22.64568, 22.64568, 22.645678, 22.64568, 22.64568, 22.64568, 22.64568, 22.64568, 22.645678, 22.64568, 22.64568, 22.64568, 22.64568, 22.64568, 22.64568, 22.64568, 22.64568, 22.645678, 22.64568, 22.64568, 22.645678, 22.64568, 22.645678, 22.64568, 22.645678, 22.64568, 22.645678, 22.64568, 22.64568, 22.645678, 22.64568, 22.64568, 22.645678, 22.645678, 22.64568, 22.64568, 22.64568, 22.645681, 22.645678, 22.64568, 22.64568, 22.64568, 22.64568, 22.64568, 22.64568, 22.64568, 22.645678, 22.645678, 22.64568, 22.64568, 22.645678, 22.64568, 22.64568, 22.64568, 22.64568, 22.645678, 22.645678, 22.64568, 22.645678, 22.64568, 22.64568, 22.64568, 22.64568, 22.645678, 22.64568, 22.64568, 22.64568, 22.64568, 22.645678, 22.645678, 22.64568, 22.64568, 22.64568, 22.64568, 22.645678, 22.64568, 22.64568, 22.64568, 22.645678, 22.64568, 22.645678, 22.64568, 22.64568, 22.64568, 22.64568, 22.64568, 22.64568, 22.64568, 22.645678, 22.64568, 22.64568, 22.64568, 22.64568, 22.64568, 22.645678, 22.64568, 22.645678, 22.645678, 22.64568, 22.64568, 22.64568, 22.645678, 22.64568, 22.64568, 22.64568, 22.64568, 22.64568, 22.645678, 22.645678, 22.64568, 22.64568, 22.64568, 22.645678, 22.64568, 22.64568, 22.645678, 22.645678, 22.645678, 22.64568, 22.64568, 22.64568, 22.645678, 22.64568, 22.64568, 22.64568, 22.64568, 22.645678]}\n"
          ],
          "name": "stdout"
        },
        {
          "output_type": "display_data",
          "data": {
            "image/png": "[encoded data removed]",
            "text/plain": [
              "<Figure size 432x288 with 1 Axes>"
            ]
          },
          "metadata": {
            "tags": []
          }
        },
        {
          "output_type": "display_data",
          "data": {
            "image/png": "[encoded data removed]",
            "text/plain": [
              "<Figure size 432x288 with 1 Axes>"
            ]
          },
          "metadata": {
            "tags": []
          }
        }
      ]
    },
    {
      "cell_type": "code",
      "metadata": {
        "id": "LRcXvkui3LLR",
        "colab_type": "code",
        "outputId": "e42bf62c-d813-497b-a120-751919307e10",
        "colab": {
          "base_uri": "https://localhost:8080/",
          "height": 34
        }
      },
      "source": [
        "# 8. Run this same data through a linear regression model. \n",
        "# Which achieves higher accuracy?\n",
        "\n",
        "from sklearn.linear_model import LinearRegression\n",
        "reg = LinearRegression().fit(X_train, y_train)\n",
        "\n",
        "y_pred = reg.predict(X_test)\n",
        "\n",
        "from sklearn.metrics import mean_squared_error\n",
        "mse = mean_squared_error(y_test, y_pred) \n",
        "print(mse)"
      ],
      "execution_count": 0,
      "outputs": [
        {
          "output_type": "stream",
          "text": [
            "40.60145446671504\n"
          ],
          "name": "stdout"
        }
      ]
    },
    {
      "cell_type": "markdown",
      "metadata": {
        "colab_type": "text",
        "id": "SfcFnOONyuNm"
      },
      "source": [
        "## Use the Keras Library to build an image recognition network using the Fashion-MNIST dataset (also comes with keras)\n",
        "\n",
        "- Load and preprocess the image data similar to how we preprocessed the MNIST data in class.\n",
        "- Make sure to one-hot encode your category labels\n",
        "- Make sure to have your final layer have as many nodes as the number of classes that you want to predict.\n",
        "- Try different hyperparameters. What is the highest accuracy that you are able to achieve.\n",
        "- Use the history object that is returned from model.fit to make graphs of the model's loss or train/validation accuracies by epoch. \n",
        "- Remember that neural networks fall prey to randomness so you may need to run your model multiple times (or use Cross Validation) in order to tell if a change to a hyperparameter is truly producing better results."
      ]
    },
    {
      "cell_type": "code",
      "metadata": {
        "colab_type": "code",
        "id": "szi6-IpuzaH1",
        "colab": {}
      },
      "source": [
        "# 1. Load and preprocess the image data similar to how we \n",
        "# preprocessed the MNIST data in class.\n",
        "from tensorflow import keras\n",
        "from tensorflow.keras.datasets import fashion_mnist\n",
        "from tensorflow.keras.models import Sequential\n",
        "from tensorflow.keras.layers import Dense, Dropout\n",
        "\n",
        "(X_train, y_train), (X_test, y_test) = fashion_mnist.load_data()"
      ],
      "execution_count": 0,
      "outputs": []
    },
    {
      "cell_type": "code",
      "metadata": {
        "id": "2g6KjDm55zO9",
        "colab_type": "code",
        "outputId": "7cb3cc91-cdc1-439c-f3c2-b125d961ac24",
        "colab": {
          "base_uri": "https://localhost:8080/",
          "height": 34
        }
      },
      "source": [
        "X_train.shape, y_train.shape, X_test.shape, y_test.shape"
      ],
      "execution_count": 0,
      "outputs": [
        {
          "output_type": "execute_result",
          "data": {
            "text/plain": [
              "((60000, 28, 28), (60000,), (10000, 28, 28), (10000,))"
            ]
          },
          "metadata": {
            "tags": []
          },
          "execution_count": 42
        }
      ]
    },
    {
      "cell_type": "code",
      "metadata": {
        "id": "4MqRAn0c6DYQ",
        "colab_type": "code",
        "colab": {}
      },
      "source": [
        "# Reshape the data, don't hard code\n",
        "\n",
        "rows, cols = X_train.shape[1], X_train.shape[2]\n",
        "\n",
        "X_train = X_train.reshape(X_train.shape[0], rows * cols)\n",
        "X_test = X_test.reshape(X_test.shape[0], rows * cols)"
      ],
      "execution_count": 0,
      "outputs": []
    },
    {
      "cell_type": "code",
      "metadata": {
        "id": "SGYjNV995ML5",
        "colab_type": "code",
        "colab": {}
      },
      "source": [
        "# X Variable Types\n",
        "X_train = X_train.astype('float32')\n",
        "X_test = X_test.astype('float32')\n",
        "\n",
        "# Hyper Parameters\n",
        "batch_size = 64\n",
        "num_classes = 10\n",
        "epochs = 20\n",
        "\n",
        "# Correct Encoding on Y\n",
        "# What softmax expects = [0,0,0,0,0,1,0,0,0,0]\n",
        "y_train = keras.utils.to_categorical(y_train, num_classes)\n",
        "y_test = keras.utils.to_categorical(y_test, num_classes)"
      ],
      "execution_count": 0,
      "outputs": []
    },
    {
      "cell_type": "code",
      "metadata": {
        "id": "YF1N9xpS5P3n",
        "colab_type": "code",
        "outputId": "dbee054d-646e-4a5c-f3a6-914cae9febe4",
        "colab": {
          "base_uri": "https://localhost:8080/",
          "height": 323
        }
      },
      "source": [
        "# Make sure to have your final layer have as many nodes as the number of classes that you want to predict.\n",
        "\n",
        "mnist_model = Sequential()\n",
        "\n",
        "# Input => Hidden\n",
        "mnist_model.add(Dense(16, input_dim=rows*cols, activation='relu'))\n",
        "# Hidden\n",
        "mnist_model.add(Dense(16, activation='relu'))\n",
        "# Hidden\n",
        "mnist_model.add(Dense(16, activation='relu'))\n",
        "# Hidden\n",
        "mnist_model.add(Dense(16, activation='relu'))\n",
        "# Output\n",
        "mnist_model.add(Dense(10,activation='softmax'))\n",
        "\n",
        "#Compile\n",
        "mnist_model.compile(loss='categorical_crossentropy',\n",
        "                    optimizer='adam',\n",
        "                    metrics=['accuracy'])\n",
        "\n",
        "mnist_model.summary()"
      ],
      "execution_count": 0,
      "outputs": [
        {
          "output_type": "stream",
          "text": [
            "Model: \"sequential_5\"\n",
            "_________________________________________________________________\n",
            "Layer (type)                 Output Shape              Param #   \n",
            "=================================================================\n",
            "dense_15 (Dense)             (None, 16)                12560     \n",
            "_________________________________________________________________\n",
            "dense_16 (Dense)             (None, 16)                272       \n",
            "_________________________________________________________________\n",
            "dense_17 (Dense)             (None, 16)                272       \n",
            "_________________________________________________________________\n",
            "dense_18 (Dense)             (None, 16)                272       \n",
            "_________________________________________________________________\n",
            "dense_19 (Dense)             (None, 10)                170       \n",
            "=================================================================\n",
            "Total params: 13,546\n",
            "Trainable params: 13,546\n",
            "Non-trainable params: 0\n",
            "_________________________________________________________________\n"
          ],
          "name": "stdout"
        }
      ]
    },
    {
      "cell_type": "code",
      "metadata": {
        "id": "QsBu2wtR7NO6",
        "colab_type": "code",
        "outputId": "5477d25f-d0d0-4b46-b77b-79f96d6bfbd9",
        "colab": {
          "base_uri": "https://localhost:8080/",
          "height": 71
        }
      },
      "source": [
        "history = mnist_model.fit(X_train, y_train, batch_size=32, epochs=100, verbose=False)\n",
        "scores = mnist_model.evaluate(X_test, y_test)\n",
        "scores"
      ],
      "execution_count": 0,
      "outputs": [
        {
          "output_type": "stream",
          "text": [
            "10000/10000 [==============================] - 0s 28us/sample - loss: 0.5888 - acc: 0.7978\n"
          ],
          "name": "stdout"
        },
        {
          "output_type": "execute_result",
          "data": {
            "text/plain": [
              "[0.5888429119110108, 0.7978]"
            ]
          },
          "metadata": {
            "tags": []
          },
          "execution_count": 48
        }
      ]
    },
    {
      "cell_type": "code",
      "metadata": {
        "id": "mZ0jz-bT7DBj",
        "colab_type": "code",
        "outputId": "575e0e34-8dde-4502-f855-099c41da0a60",
        "colab": {
          "base_uri": "https://localhost:8080/",
          "height": 484
        }
      },
      "source": [
        "# Use the history object that is returned from model.fit to make graphs of the \n",
        "# model's loss or train/validation accuracies by epoch.\n",
        "\n",
        "# Plot training & validation accuracy\n",
        "plt.plot(history.history['acc'])\n",
        "plt.plot(history.history['val_acc'])\n",
        "plt.title('Model accuracy')\n",
        "plt.ylabel('Accuracy')\n",
        "plt.xlabel('Epoch')\n",
        "plt.legend(['Train', 'Test'], loc='upper left')\n",
        "plt.show()\n",
        "\n",
        "# Plot training & validation loss values\n",
        "plt.plot(history.history['loss'])\n",
        "plt.plot(history.history['val_loss'])\n",
        "plt.title('Model loss')\n",
        "plt.ylabel('Loss')\n",
        "plt.xlabel('Epoch')\n",
        "plt.legend(['Train', 'Test'], loc='upper left')\n",
        "plt.show()\n"
      ],
      "execution_count": 0,
      "outputs": [
        {
          "output_type": "error",
          "ename": "KeyError",
          "evalue": "ignored",
          "traceback": [
            "\u001b[0;31m---------------------------------------------------------------------------\u001b[0m",
            "\u001b[0;31mKeyError\u001b[0m                                  Traceback (most recent call last)",
            "\u001b[0;32m<ipython-input-50-7759714798e8>\u001b[0m in \u001b[0;36m<module>\u001b[0;34m()\u001b[0m\n\u001b[1;32m      1\u001b[0m \u001b[0mplt\u001b[0m\u001b[0;34m.\u001b[0m\u001b[0mplot\u001b[0m\u001b[0;34m(\u001b[0m\u001b[0mhistory\u001b[0m\u001b[0;34m.\u001b[0m\u001b[0mhistory\u001b[0m\u001b[0;34m[\u001b[0m\u001b[0;34m'acc'\u001b[0m\u001b[0;34m]\u001b[0m\u001b[0;34m)\u001b[0m\u001b[0;34m\u001b[0m\u001b[0;34m\u001b[0m\u001b[0m\n\u001b[0;32m----> 2\u001b[0;31m \u001b[0mplt\u001b[0m\u001b[0;34m.\u001b[0m\u001b[0mplot\u001b[0m\u001b[0;34m(\u001b[0m\u001b[0mhistory\u001b[0m\u001b[0;34m.\u001b[0m\u001b[0mhistory\u001b[0m\u001b[0;34m[\u001b[0m\u001b[0;34m'val_acc'\u001b[0m\u001b[0;34m]\u001b[0m\u001b[0;34m)\u001b[0m\u001b[0;34m\u001b[0m\u001b[0;34m\u001b[0m\u001b[0m\n\u001b[0m\u001b[1;32m      3\u001b[0m \u001b[0mplt\u001b[0m\u001b[0;34m.\u001b[0m\u001b[0mtitle\u001b[0m\u001b[0;34m(\u001b[0m\u001b[0;34m'Model accuracy'\u001b[0m\u001b[0;34m)\u001b[0m\u001b[0;34m\u001b[0m\u001b[0;34m\u001b[0m\u001b[0m\n\u001b[1;32m      4\u001b[0m \u001b[0mplt\u001b[0m\u001b[0;34m.\u001b[0m\u001b[0mylabel\u001b[0m\u001b[0;34m(\u001b[0m\u001b[0;34m'Accuracy'\u001b[0m\u001b[0;34m)\u001b[0m\u001b[0;34m\u001b[0m\u001b[0;34m\u001b[0m\u001b[0m\n\u001b[1;32m      5\u001b[0m \u001b[0mplt\u001b[0m\u001b[0;34m.\u001b[0m\u001b[0mxlabel\u001b[0m\u001b[0;34m(\u001b[0m\u001b[0;34m'Epoch'\u001b[0m\u001b[0;34m)\u001b[0m\u001b[0;34m\u001b[0m\u001b[0;34m\u001b[0m\u001b[0m\n",
            "\u001b[0;31mKeyError\u001b[0m: 'val_acc'"
          ]
        },
        {
          "output_type": "display_data",
          "data": {
            "image/png": "[encoded data removed]",
            "text/plain": [
              "<Figure size 432x288 with 1 Axes>"
            ]
          },
          "metadata": {
            "tags": []
          }
        }
      ]
    },
    {
      "cell_type": "markdown",
      "metadata": {
        "colab_type": "text",
        "id": "zv_3xNMjzdLI"
      },
      "source": [
        "## Stretch Goals:\n",
        "\n",
        "- Use Hyperparameter Tuning to make the accuracy of your models as high as possible. (error as low as possible)\n",
        "- Use Cross Validation techniques to get more consistent results with your model.\n",
        "- Use GridSearchCV to try different combinations of hyperparameters. \n",
        "- Start looking into other types of Keras layers for CNNs and RNNs maybe try and build a CNN model for fashion-MNIST to see how the results compare."
      ]
    }
  ]
}