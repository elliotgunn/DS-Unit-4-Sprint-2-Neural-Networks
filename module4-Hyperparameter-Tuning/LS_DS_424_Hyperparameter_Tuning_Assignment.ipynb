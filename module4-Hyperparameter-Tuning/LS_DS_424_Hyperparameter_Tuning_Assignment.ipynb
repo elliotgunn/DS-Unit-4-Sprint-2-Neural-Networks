{
  "nbformat": 4,
  "nbformat_minor": 0,
  "metadata": {
    "colab": {
      "name": "LS_DS_424_Hyperparameter_Tuning_Assignment.ipynb",
      "provenance": [],
      "collapsed_sections": []
    },
    "kernelspec": {
      "display_name": "Python 3",
      "language": "python",
      "name": "python3"
    },
    "language_info": {
      "codemirror_mode": {
        "name": "ipython",
        "version": 3
      },
      "file_extension": ".py",
      "mimetype": "text/x-python",
      "name": "python",
      "nbconvert_exporter": "python",
      "pygments_lexer": "ipython3",
      "version": "3.7.4"
    }
  },
  "cells": [
    {
      "cell_type": "markdown",
      "metadata": {
        "colab_type": "text",
        "id": "9Ryp-TVm4njD"
      },
      "source": [
        "<img align=\"left\" src=\"https://lever-client-logos.s3.amazonaws.com/864372b1-534c-480e-acd5-9711f850815c-1524247202159.png\" width=200>\n",
        "<br></br>\n",
        "\n",
        "# Hyperparameter Tuning\n",
        "\n",
        "## *Data Science Unit 4 Sprint 2 Assignment 4*\n",
        "\n",
        "## Your Mission, should you choose to accept it...\n",
        "\n",
        "To hyperparameter tune and extract every ounce of accuracy out of this telecom customer churn dataset: <https://drive.google.com/file/d/1dfbAsM9DwA7tYhInyflIpZnYs7VT-0AQ/view> \n",
        "\n",
        "## Requirements\n",
        "\n",
        "- Load the data\n",
        "- Clean the data if necessary (it will be)\n",
        "- Create and fit a baseline Keras MLP model to the data.\n",
        "- Hyperparameter tune (at least) the following parameters:\n",
        " - batch_size\n",
        " - training epochs\n",
        " - optimizer\n",
        " - learning rate (if applicable to optimizer)\n",
        " - momentum (if applicable to optimizer)\n",
        " - activation functions\n",
        " - network weight initialization\n",
        " - dropout regularization\n",
        " - number of neurons in the hidden layer\n",
        " \n",
        " You must use Grid Search and Cross Validation for your initial pass of the above hyperparameters\n",
        " \n",
        " Try and get the maximum accuracy possible out of this data! You'll save big telecoms millions! Doesn't that sound great?\n"
      ]
    },
    {
      "cell_type": "code",
      "metadata": {
        "colab_type": "code",
        "id": "NNJ-tOBs4jM1",
        "colab": {
          "base_uri": "https://localhost:8080/",
          "height": 309
        },
        "outputId": "ab7414e5-8392-44d6-d9c4-033a14277b71"
      },
      "source": [
        "# 1. load the data\n",
        "\n",
        "import pandas as pd\n",
        "\n",
        "# mount dataframe\n",
        "telcom = pd.read_csv('/content/WA_Fn-UseC_-Telco-Customer-Churn.csv')\n",
        "telcom.head()"
      ],
      "execution_count": 80,
      "outputs": [
        {
          "output_type": "execute_result",
          "data": {
            "text/html": [
              "<div>\n",
              "<style scoped>\n",
              "    .dataframe tbody tr th:only-of-type {\n",
              "        vertical-align: middle;\n",
              "    }\n",
              "\n",
              "    .dataframe tbody tr th {\n",
              "        vertical-align: top;\n",
              "    }\n",
              "\n",
              "    .dataframe thead th {\n",
              "        text-align: right;\n",
              "    }\n",
              "</style>\n",
              "<table border=\"1\" class=\"dataframe\">\n",
              "  <thead>\n",
              "    <tr style=\"text-align: right;\">\n",
              "      <th></th>\n",
              "      <th>customerID</th>\n",
              "      <th>gender</th>\n",
              "      <th>SeniorCitizen</th>\n",
              "      <th>Partner</th>\n",
              "      <th>Dependents</th>\n",
              "      <th>tenure</th>\n",
              "      <th>PhoneService</th>\n",
              "      <th>MultipleLines</th>\n",
              "      <th>InternetService</th>\n",
              "      <th>OnlineSecurity</th>\n",
              "      <th>OnlineBackup</th>\n",
              "      <th>DeviceProtection</th>\n",
              "      <th>TechSupport</th>\n",
              "      <th>StreamingTV</th>\n",
              "      <th>StreamingMovies</th>\n",
              "      <th>Contract</th>\n",
              "      <th>PaperlessBilling</th>\n",
              "      <th>PaymentMethod</th>\n",
              "      <th>MonthlyCharges</th>\n",
              "      <th>TotalCharges</th>\n",
              "      <th>Churn</th>\n",
              "    </tr>\n",
              "  </thead>\n",
              "  <tbody>\n",
              "    <tr>\n",
              "      <th>0</th>\n",
              "      <td>7590-VHVEG</td>\n",
              "      <td>Female</td>\n",
              "      <td>0</td>\n",
              "      <td>Yes</td>\n",
              "      <td>No</td>\n",
              "      <td>1</td>\n",
              "      <td>No</td>\n",
              "      <td>No phone service</td>\n",
              "      <td>DSL</td>\n",
              "      <td>No</td>\n",
              "      <td>Yes</td>\n",
              "      <td>No</td>\n",
              "      <td>No</td>\n",
              "      <td>No</td>\n",
              "      <td>No</td>\n",
              "      <td>Month-to-month</td>\n",
              "      <td>Yes</td>\n",
              "      <td>Electronic check</td>\n",
              "      <td>29.85</td>\n",
              "      <td>29.85</td>\n",
              "      <td>No</td>\n",
              "    </tr>\n",
              "    <tr>\n",
              "      <th>1</th>\n",
              "      <td>5575-GNVDE</td>\n",
              "      <td>Male</td>\n",
              "      <td>0</td>\n",
              "      <td>No</td>\n",
              "      <td>No</td>\n",
              "      <td>34</td>\n",
              "      <td>Yes</td>\n",
              "      <td>No</td>\n",
              "      <td>DSL</td>\n",
              "      <td>Yes</td>\n",
              "      <td>No</td>\n",
              "      <td>Yes</td>\n",
              "      <td>No</td>\n",
              "      <td>No</td>\n",
              "      <td>No</td>\n",
              "      <td>One year</td>\n",
              "      <td>No</td>\n",
              "      <td>Mailed check</td>\n",
              "      <td>56.95</td>\n",
              "      <td>1889.5</td>\n",
              "      <td>No</td>\n",
              "    </tr>\n",
              "    <tr>\n",
              "      <th>2</th>\n",
              "      <td>3668-QPYBK</td>\n",
              "      <td>Male</td>\n",
              "      <td>0</td>\n",
              "      <td>No</td>\n",
              "      <td>No</td>\n",
              "      <td>2</td>\n",
              "      <td>Yes</td>\n",
              "      <td>No</td>\n",
              "      <td>DSL</td>\n",
              "      <td>Yes</td>\n",
              "      <td>Yes</td>\n",
              "      <td>No</td>\n",
              "      <td>No</td>\n",
              "      <td>No</td>\n",
              "      <td>No</td>\n",
              "      <td>Month-to-month</td>\n",
              "      <td>Yes</td>\n",
              "      <td>Mailed check</td>\n",
              "      <td>53.85</td>\n",
              "      <td>108.15</td>\n",
              "      <td>Yes</td>\n",
              "    </tr>\n",
              "    <tr>\n",
              "      <th>3</th>\n",
              "      <td>7795-CFOCW</td>\n",
              "      <td>Male</td>\n",
              "      <td>0</td>\n",
              "      <td>No</td>\n",
              "      <td>No</td>\n",
              "      <td>45</td>\n",
              "      <td>No</td>\n",
              "      <td>No phone service</td>\n",
              "      <td>DSL</td>\n",
              "      <td>Yes</td>\n",
              "      <td>No</td>\n",
              "      <td>Yes</td>\n",
              "      <td>Yes</td>\n",
              "      <td>No</td>\n",
              "      <td>No</td>\n",
              "      <td>One year</td>\n",
              "      <td>No</td>\n",
              "      <td>Bank transfer (automatic)</td>\n",
              "      <td>42.30</td>\n",
              "      <td>1840.75</td>\n",
              "      <td>No</td>\n",
              "    </tr>\n",
              "    <tr>\n",
              "      <th>4</th>\n",
              "      <td>9237-HQITU</td>\n",
              "      <td>Female</td>\n",
              "      <td>0</td>\n",
              "      <td>No</td>\n",
              "      <td>No</td>\n",
              "      <td>2</td>\n",
              "      <td>Yes</td>\n",
              "      <td>No</td>\n",
              "      <td>Fiber optic</td>\n",
              "      <td>No</td>\n",
              "      <td>No</td>\n",
              "      <td>No</td>\n",
              "      <td>No</td>\n",
              "      <td>No</td>\n",
              "      <td>No</td>\n",
              "      <td>Month-to-month</td>\n",
              "      <td>Yes</td>\n",
              "      <td>Electronic check</td>\n",
              "      <td>70.70</td>\n",
              "      <td>151.65</td>\n",
              "      <td>Yes</td>\n",
              "    </tr>\n",
              "  </tbody>\n",
              "</table>\n",
              "</div>"
            ],
            "text/plain": [
              "   customerID  gender  SeniorCitizen  ... MonthlyCharges TotalCharges  Churn\n",
              "0  7590-VHVEG  Female              0  ...          29.85        29.85     No\n",
              "1  5575-GNVDE    Male              0  ...          56.95       1889.5     No\n",
              "2  3668-QPYBK    Male              0  ...          53.85       108.15    Yes\n",
              "3  7795-CFOCW    Male              0  ...          42.30      1840.75     No\n",
              "4  9237-HQITU  Female              0  ...          70.70       151.65    Yes\n",
              "\n",
              "[5 rows x 21 columns]"
            ]
          },
          "metadata": {
            "tags": []
          },
          "execution_count": 80
        }
      ]
    },
    {
      "cell_type": "code",
      "metadata": {
        "id": "t6F9U-y-TKyD",
        "colab_type": "code",
        "colab": {
          "base_uri": "https://localhost:8080/",
          "height": 34
        },
        "outputId": "0db0a745-f56b-4f6b-d396-c99c1327e7db"
      },
      "source": [
        "telcom.shape"
      ],
      "execution_count": 81,
      "outputs": [
        {
          "output_type": "execute_result",
          "data": {
            "text/plain": [
              "(7043, 21)"
            ]
          },
          "metadata": {
            "tags": []
          },
          "execution_count": 81
        }
      ]
    },
    {
      "cell_type": "code",
      "metadata": {
        "id": "fnXFbnIsWCNX",
        "colab_type": "code",
        "colab": {
          "base_uri": "https://localhost:8080/",
          "height": 391
        },
        "outputId": "0ba3f03b-6012-4c3c-e059-b9644f5b9291"
      },
      "source": [
        "telcom.isna().sum()"
      ],
      "execution_count": 82,
      "outputs": [
        {
          "output_type": "execute_result",
          "data": {
            "text/plain": [
              "customerID          0\n",
              "gender              0\n",
              "SeniorCitizen       0\n",
              "Partner             0\n",
              "Dependents          0\n",
              "tenure              0\n",
              "PhoneService        0\n",
              "MultipleLines       0\n",
              "InternetService     0\n",
              "OnlineSecurity      0\n",
              "OnlineBackup        0\n",
              "DeviceProtection    0\n",
              "TechSupport         0\n",
              "StreamingTV         0\n",
              "StreamingMovies     0\n",
              "Contract            0\n",
              "PaperlessBilling    0\n",
              "PaymentMethod       0\n",
              "MonthlyCharges      0\n",
              "TotalCharges        0\n",
              "Churn               0\n",
              "dtype: int64"
            ]
          },
          "metadata": {
            "tags": []
          },
          "execution_count": 82
        }
      ]
    },
    {
      "cell_type": "code",
      "metadata": {
        "id": "xd6aehuUWXiF",
        "colab_type": "code",
        "colab": {}
      },
      "source": [
        "# convert target variable to binary\n",
        "telcom['Churn'] = telcom['Churn'].replace({'Yes': 1, 'No': 0})"
      ],
      "execution_count": 0,
      "outputs": []
    },
    {
      "cell_type": "code",
      "metadata": {
        "id": "WMGpOu0pbMkj",
        "colab_type": "code",
        "colab": {}
      },
      "source": [
        "# drop customerID as cannot be encoded\n",
        "X = telcom.drop(columns=['Churn', 'customerID'])\n",
        "y = telcom['Churn']"
      ],
      "execution_count": 0,
      "outputs": []
    },
    {
      "cell_type": "code",
      "metadata": {
        "id": "ioa0E6vgbdYw",
        "colab_type": "code",
        "colab": {
          "base_uri": "https://localhost:8080/",
          "height": 34
        },
        "outputId": "6afecb00-f6cf-4af6-9ac9-49359aab517e"
      },
      "source": [
        "from sklearn.model_selection import train_test_split\n",
        "\n",
        "X_train, X_test, y_train, y_test = train_test_split(X, y, test_size=0.25, random_state=42, stratify=y)\n",
        "\n",
        "X_train.shape, y_train.shape, X_test.shape, y_test.shape"
      ],
      "execution_count": 85,
      "outputs": [
        {
          "output_type": "execute_result",
          "data": {
            "text/plain": [
              "((5282, 19), (5282,), (1761, 19), (1761,))"
            ]
          },
          "metadata": {
            "tags": []
          },
          "execution_count": 85
        }
      ]
    },
    {
      "cell_type": "code",
      "metadata": {
        "id": "9ULv-YXThy8r",
        "colab_type": "code",
        "colab": {
          "base_uri": "https://localhost:8080/",
          "height": 224
        },
        "outputId": "d3deeb40-e031-4a3e-8155-b736c1639f8f"
      },
      "source": [
        "!pip install category_encoders"
      ],
      "execution_count": 86,
      "outputs": [
        {
          "output_type": "stream",
          "text": [
            "Requirement already satisfied: category_encoders in /usr/local/lib/python3.6/dist-packages (2.1.0)\n",
            "Requirement already satisfied: pandas>=0.21.1 in /usr/local/lib/python3.6/dist-packages (from category_encoders) (0.24.2)\n",
            "Requirement already satisfied: numpy>=1.11.3 in /usr/local/lib/python3.6/dist-packages (from category_encoders) (1.16.5)\n",
            "Requirement already satisfied: patsy>=0.4.1 in /usr/local/lib/python3.6/dist-packages (from category_encoders) (0.5.1)\n",
            "Requirement already satisfied: scipy>=0.19.0 in /usr/local/lib/python3.6/dist-packages (from category_encoders) (1.3.1)\n",
            "Requirement already satisfied: statsmodels>=0.6.1 in /usr/local/lib/python3.6/dist-packages (from category_encoders) (0.10.1)\n",
            "Requirement already satisfied: scikit-learn>=0.20.0 in /usr/local/lib/python3.6/dist-packages (from category_encoders) (0.21.3)\n",
            "Requirement already satisfied: python-dateutil>=2.5.0 in /usr/local/lib/python3.6/dist-packages (from pandas>=0.21.1->category_encoders) (2.5.3)\n",
            "Requirement already satisfied: pytz>=2011k in /usr/local/lib/python3.6/dist-packages (from pandas>=0.21.1->category_encoders) (2018.9)\n",
            "Requirement already satisfied: six in /usr/local/lib/python3.6/dist-packages (from patsy>=0.4.1->category_encoders) (1.12.0)\n",
            "Requirement already satisfied: joblib>=0.11 in /usr/local/lib/python3.6/dist-packages (from scikit-learn>=0.20.0->category_encoders) (0.14.0)\n"
          ],
          "name": "stdout"
        }
      ]
    },
    {
      "cell_type": "code",
      "metadata": {
        "id": "OWyIhSR0Svmw",
        "colab_type": "code",
        "colab": {}
      },
      "source": [
        "# 2. clean data\n",
        "\n",
        "# encode \n",
        "import category_encoders as ce\n",
        "encoder = ce.OneHotEncoder()\n",
        "\n",
        "X_train = encoder.fit_transform(X_train)\n",
        "X_test = encoder.transform(X_test)\n",
        "\n",
        "# normalize\n",
        "from sklearn.preprocessing import MinMaxScaler, Normalizer\n",
        "\n",
        "scaler = MinMaxScaler()\n",
        "X_train = scaler.fit_transform(X_train)\n",
        "X_test = scaler.fit_transform(X_test)"
      ],
      "execution_count": 0,
      "outputs": []
    },
    {
      "cell_type": "code",
      "metadata": {
        "id": "DCDThx7agEVM",
        "colab_type": "code",
        "colab": {}
      },
      "source": [
        "# X Variable Types\n",
        "X_train = X_train.astype('float32')\n",
        "X_test = X_test.astype('float32')"
      ],
      "execution_count": 0,
      "outputs": []
    },
    {
      "cell_type": "code",
      "metadata": {
        "id": "R-fF0-Vakr0m",
        "colab_type": "code",
        "colab": {}
      },
      "source": [
        "# y needs to be transformed into an array???\n",
        "# y_train = y_train.to_numpy()\n",
        "# y_test = y_test.to_numpy()"
      ],
      "execution_count": 0,
      "outputs": []
    },
    {
      "cell_type": "code",
      "metadata": {
        "id": "4AqQn9fYSzfj",
        "colab_type": "code",
        "colab": {}
      },
      "source": [
        "# 3. baseline \n",
        "\n",
        "# Important Hyperparameters\n",
        "inputs = X_train.shape[1]\n",
        "epochs = 50\n",
        "batch_size = 10"
      ],
      "execution_count": 0,
      "outputs": []
    },
    {
      "cell_type": "code",
      "metadata": {
        "id": "JIjzFww4jAkS",
        "colab_type": "code",
        "colab": {
          "base_uri": "https://localhost:8080/",
          "height": 1000
        },
        "outputId": "b2838a47-888b-48bc-ae49-c3bf177fb5d4"
      },
      "source": [
        "# create model without tuning\n",
        "\n",
        "from tensorflow.keras.models import Sequential\n",
        "from tensorflow.keras.layers import Dense\n",
        "\n",
        "model = Sequential()\n",
        "model.add(Dense(15, activation='relu', input_shape=(inputs,)))\n",
        "model.add(Dense(10, activation='relu'))\n",
        "\n",
        "# add sigmoid for output layer,  because classification (see notes)\n",
        "model.add(Dense(1, activation='sigmoid'))\n",
        "          \n",
        "  \n",
        "# since dependent variable is binary, use the log loss function \n",
        "# if there are > 2 categroies in output, then use categorical_crossentropy\n",
        "\n",
        "model.compile(optimizer='adam', \n",
        "              loss='binary_crossentropy', \n",
        "              metrics=['acc'])\n",
        "\n",
        "model.fit(X_train, y_train, \n",
        "          validation_data=(X_test,y_test), \n",
        "          epochs=epochs, \n",
        "          batch_size=batch_size,\n",
        "          verbose=True\n",
        "         )"
      ],
      "execution_count": 92,
      "outputs": [
        {
          "output_type": "stream",
          "text": [
            "Train on 5282 samples, validate on 1761 samples\n",
            "Epoch 1/50\n",
            "5282/5282 [==============================] - 2s 429us/sample - loss: 0.4619 - acc: 0.7673 - val_loss: 0.4338 - val_acc: 0.7785\n",
            "Epoch 2/50\n",
            "5282/5282 [==============================] - 2s 393us/sample - loss: 0.4079 - acc: 0.8116 - val_loss: 0.4284 - val_acc: 0.7888\n",
            "Epoch 3/50\n",
            "5282/5282 [==============================] - 2s 387us/sample - loss: 0.3651 - acc: 0.8431 - val_loss: 0.4161 - val_acc: 0.8018\n",
            "Epoch 4/50\n",
            "5282/5282 [==============================] - 2s 396us/sample - loss: 0.2838 - acc: 0.8944 - val_loss: 0.4367 - val_acc: 0.7791\n",
            "Epoch 5/50\n",
            "5282/5282 [==============================] - 2s 393us/sample - loss: 0.1605 - acc: 0.9580 - val_loss: 0.4630 - val_acc: 0.7774\n",
            "Epoch 6/50\n",
            "5282/5282 [==============================] - 2s 394us/sample - loss: 0.0797 - acc: 0.9760 - val_loss: 0.5462 - val_acc: 0.7286\n",
            "Epoch 7/50\n",
            "5282/5282 [==============================] - 2s 376us/sample - loss: 0.0544 - acc: 0.9786 - val_loss: 0.5577 - val_acc: 0.7411\n",
            "Epoch 8/50\n",
            "5282/5282 [==============================] - 2s 389us/sample - loss: 0.0476 - acc: 0.9820 - val_loss: 0.5373 - val_acc: 0.7780\n",
            "Epoch 9/50\n",
            "5282/5282 [==============================] - 2s 396us/sample - loss: 0.0441 - acc: 0.9814 - val_loss: 0.6016 - val_acc: 0.7428\n",
            "Epoch 10/50\n",
            "5282/5282 [==============================] - 2s 386us/sample - loss: 0.0430 - acc: 0.9811 - val_loss: 0.5459 - val_acc: 0.7643\n",
            "Epoch 11/50\n",
            "5282/5282 [==============================] - 2s 393us/sample - loss: 0.0364 - acc: 0.9841 - val_loss: 0.7195 - val_acc: 0.6860\n",
            "Epoch 12/50\n",
            "5282/5282 [==============================] - 2s 396us/sample - loss: 0.0414 - acc: 0.9813 - val_loss: 0.6341 - val_acc: 0.7439\n",
            "Epoch 13/50\n",
            "5282/5282 [==============================] - 2s 397us/sample - loss: 0.0350 - acc: 0.9835 - val_loss: 0.6765 - val_acc: 0.7558\n",
            "Epoch 14/50\n",
            "5282/5282 [==============================] - 2s 390us/sample - loss: 0.0351 - acc: 0.9830 - val_loss: 0.7549 - val_acc: 0.7263\n",
            "Epoch 15/50\n",
            "5282/5282 [==============================] - 2s 396us/sample - loss: 0.0343 - acc: 0.9843 - val_loss: 0.5973 - val_acc: 0.7604\n",
            "Epoch 16/50\n",
            "5282/5282 [==============================] - 2s 391us/sample - loss: 0.0300 - acc: 0.9867 - val_loss: 0.7517 - val_acc: 0.7195\n",
            "Epoch 17/50\n",
            "5282/5282 [==============================] - 2s 398us/sample - loss: 0.0325 - acc: 0.9860 - val_loss: 0.8139 - val_acc: 0.6820\n",
            "Epoch 18/50\n",
            "5282/5282 [==============================] - 2s 407us/sample - loss: 0.0281 - acc: 0.9877 - val_loss: 0.7031 - val_acc: 0.7388\n",
            "Epoch 19/50\n",
            "5282/5282 [==============================] - 2s 406us/sample - loss: 0.0318 - acc: 0.9852 - val_loss: 0.6909 - val_acc: 0.7325\n",
            "Epoch 20/50\n",
            "5282/5282 [==============================] - 2s 403us/sample - loss: 0.0282 - acc: 0.9877 - val_loss: 0.6519 - val_acc: 0.7553\n",
            "Epoch 21/50\n",
            "5282/5282 [==============================] - 2s 372us/sample - loss: 0.0264 - acc: 0.9885 - val_loss: 0.6804 - val_acc: 0.7535\n",
            "Epoch 22/50\n",
            "5282/5282 [==============================] - 2s 346us/sample - loss: 0.0241 - acc: 0.9879 - val_loss: 0.7951 - val_acc: 0.7166\n",
            "Epoch 23/50\n",
            "5282/5282 [==============================] - 2s 394us/sample - loss: 0.0263 - acc: 0.9871 - val_loss: 0.7272 - val_acc: 0.7388\n",
            "Epoch 24/50\n",
            "5282/5282 [==============================] - 2s 404us/sample - loss: 0.0236 - acc: 0.9907 - val_loss: 0.9202 - val_acc: 0.6917\n",
            "Epoch 25/50\n",
            "5282/5282 [==============================] - 2s 402us/sample - loss: 0.0223 - acc: 0.9911 - val_loss: 0.8425 - val_acc: 0.7076\n",
            "Epoch 26/50\n",
            "5282/5282 [==============================] - 2s 396us/sample - loss: 0.0240 - acc: 0.9879 - val_loss: 0.7321 - val_acc: 0.7592\n",
            "Epoch 27/50\n",
            "5282/5282 [==============================] - 2s 402us/sample - loss: 0.0220 - acc: 0.9894 - val_loss: 0.8351 - val_acc: 0.7206\n",
            "Epoch 28/50\n",
            "5282/5282 [==============================] - 2s 393us/sample - loss: 0.0210 - acc: 0.9905 - val_loss: 0.9841 - val_acc: 0.7030\n",
            "Epoch 29/50\n",
            "5282/5282 [==============================] - 2s 408us/sample - loss: 0.0201 - acc: 0.9913 - val_loss: 0.9145 - val_acc: 0.7053\n",
            "Epoch 30/50\n",
            "5282/5282 [==============================] - 2s 398us/sample - loss: 0.0212 - acc: 0.9903 - val_loss: 0.8066 - val_acc: 0.7257\n",
            "Epoch 31/50\n",
            "5282/5282 [==============================] - 2s 398us/sample - loss: 0.0200 - acc: 0.9903 - val_loss: 0.9286 - val_acc: 0.7200\n",
            "Epoch 32/50\n",
            "5282/5282 [==============================] - 2s 399us/sample - loss: 0.0196 - acc: 0.9907 - val_loss: 0.8841 - val_acc: 0.7121\n",
            "Epoch 33/50\n",
            "5282/5282 [==============================] - 2s 402us/sample - loss: 0.0187 - acc: 0.9913 - val_loss: 0.7917 - val_acc: 0.7683\n",
            "Epoch 34/50\n",
            "5282/5282 [==============================] - 2s 396us/sample - loss: 0.0151 - acc: 0.9936 - val_loss: 0.9007 - val_acc: 0.7183\n",
            "Epoch 35/50\n",
            "5282/5282 [==============================] - 2s 396us/sample - loss: 0.0173 - acc: 0.9920 - val_loss: 1.3681 - val_acc: 0.6644\n",
            "Epoch 36/50\n",
            "5282/5282 [==============================] - 2s 383us/sample - loss: 0.0171 - acc: 0.9919 - val_loss: 0.9800 - val_acc: 0.7405\n",
            "Epoch 37/50\n",
            "5282/5282 [==============================] - 2s 375us/sample - loss: 0.0170 - acc: 0.9930 - val_loss: 0.8932 - val_acc: 0.7235\n",
            "Epoch 38/50\n",
            "5282/5282 [==============================] - 2s 394us/sample - loss: 0.0178 - acc: 0.9922 - val_loss: 0.9572 - val_acc: 0.7081\n",
            "Epoch 39/50\n",
            "5282/5282 [==============================] - 2s 382us/sample - loss: 0.0153 - acc: 0.9926 - val_loss: 1.0176 - val_acc: 0.7212\n",
            "Epoch 40/50\n",
            "5282/5282 [==============================] - 2s 395us/sample - loss: 0.0157 - acc: 0.9920 - val_loss: 1.0161 - val_acc: 0.7161\n",
            "Epoch 41/50\n",
            "5282/5282 [==============================] - 2s 399us/sample - loss: 0.0157 - acc: 0.9932 - val_loss: 1.3482 - val_acc: 0.6519\n",
            "Epoch 42/50\n",
            "5282/5282 [==============================] - 2s 397us/sample - loss: 0.0146 - acc: 0.9936 - val_loss: 0.9467 - val_acc: 0.7286\n",
            "Epoch 43/50\n",
            "5282/5282 [==============================] - 2s 405us/sample - loss: 0.0138 - acc: 0.9945 - val_loss: 0.9450 - val_acc: 0.7462\n",
            "Epoch 44/50\n",
            "5282/5282 [==============================] - 2s 401us/sample - loss: 0.0135 - acc: 0.9926 - val_loss: 1.0100 - val_acc: 0.7280\n",
            "Epoch 45/50\n",
            "5282/5282 [==============================] - 2s 393us/sample - loss: 0.0119 - acc: 0.9953 - val_loss: 1.1499 - val_acc: 0.7076\n",
            "Epoch 46/50\n",
            "5282/5282 [==============================] - 2s 405us/sample - loss: 0.0133 - acc: 0.9934 - val_loss: 1.0088 - val_acc: 0.7257\n",
            "Epoch 47/50\n",
            "5282/5282 [==============================] - 2s 400us/sample - loss: 0.0120 - acc: 0.9949 - val_loss: 1.0671 - val_acc: 0.7308\n",
            "Epoch 48/50\n",
            "5282/5282 [==============================] - 2s 406us/sample - loss: 0.0136 - acc: 0.9930 - val_loss: 1.2202 - val_acc: 0.7070\n",
            "Epoch 49/50\n",
            "5282/5282 [==============================] - 2s 413us/sample - loss: 0.0130 - acc: 0.9936 - val_loss: 1.3675 - val_acc: 0.6752\n",
            "Epoch 50/50\n",
            "5282/5282 [==============================] - 2s 422us/sample - loss: 0.0112 - acc: 0.9943 - val_loss: 1.4415 - val_acc: 0.6803\n"
          ],
          "name": "stdout"
        },
        {
          "output_type": "execute_result",
          "data": {
            "text/plain": [
              "<tensorflow.python.keras.callbacks.History at 0x7ff73619be80>"
            ]
          },
          "metadata": {
            "tags": []
          },
          "execution_count": 92
        }
      ]
    },
    {
      "cell_type": "markdown",
      "metadata": {
        "id": "y5lx8ef6oy2U",
        "colab_type": "text"
      },
      "source": [
        "- Hyperparameter tune (at least) the following parameters:\n",
        " - batch_size\n",
        " - training epochs\n",
        " - optimizer\n",
        " - learning rate (if applicable to optimizer)\n",
        " - momentum (if applicable to optimizer)\n",
        " - activation functions\n",
        " - network weight initialization\n",
        " - dropout regularization\n",
        " - number of neurons in the hidden layer\n",
        " \n",
        " You must use Grid Search and Cross Validation for your initial pass of the above hyperparameters"
      ]
    },
    {
      "cell_type": "code",
      "metadata": {
        "id": "RjVLj3f5oU-k",
        "colab_type": "code",
        "colab": {}
      },
      "source": [
        "# 4. hyperparameter tuning\n",
        "\n",
        "from tensorflow.keras.wrappers.scikit_learn import KerasClassifier\n",
        "\n",
        "\n",
        "def create_model():\n",
        "    # create model\n",
        "    model = Sequential()\n",
        "    model.add(Dense(15, activation='relu', input_shape=(inputs,)))\n",
        "    model.add(Dense(10, activation='relu'))\n",
        "    # add sigmoid for output layer,  because classification (see notes)\n",
        "    model.add(Dense(1, activation='sigmoid'))\n",
        "    # Compile model\n",
        "    model.compile(loss='binary_crossentropy', optimizer='adam', metrics=['acc'])\n",
        "    return model\n",
        "  \n",
        "# create model\n",
        "model = KerasClassifier(build_fn=create_model, verbose=0)"
      ],
      "execution_count": 0,
      "outputs": []
    },
    {
      "cell_type": "code",
      "metadata": {
        "id": "1XtS_gejpUKH",
        "colab_type": "code",
        "colab": {}
      },
      "source": [
        "# define the grid search parameters\n",
        "param_grid = {'batch_size': [10],\n",
        "              'epochs': [20, 40, 60, 200],\n",
        "              'optimizer': ['adam', 'sgd'] ,\n",
        "              'learning_rate': [0.001, 0.01] ,\n",
        "              'momentum': [0, 0.2] ,\n",
        "              'activation': ['softmax', 'relu', 'linear'],\n",
        "              'init_mode': ['uniform', 'normal', 'zero'],\n",
        "              'dropout_rate': [0.0, 0.1, 0.2],\n",
        "              'neurons': [1, 5, 10]\n",
        "              }"
      ],
      "execution_count": 0,
      "outputs": []
    },
    {
      "cell_type": "code",
      "metadata": {
        "id": "qMQlFTX3rDlJ",
        "colab_type": "code",
        "colab": {}
      },
      "source": [
        "from sklearn.model_selection import GridSearchCV\n",
        "\n",
        "# Create Grid Search\n",
        "grid = GridSearchCV(estimator=model, param_grid=param_grid, n_jobs=1)\n",
        "grid_result = grid.fit(X_train, y_train, epochs=50)\n",
        "\n",
        "# Report Results\n",
        "print(f\"Best: {grid_result.best_score_} using {grid_result.best_params_}\")\n",
        "means = grid_result.cv_results_['mean_test_score']\n",
        "stds = grid_result.cv_results_['std_test_score']\n",
        "params = grid_result.cv_results_['params']\n",
        "for mean, stdev, param in zip(means, stds, params):\n",
        "    print(f\"Means: {mean}, Stdev: {stdev} with: {param}\")"
      ],
      "execution_count": 0,
      "outputs": []
    },
    {
      "cell_type": "markdown",
      "metadata": {
        "colab_type": "text",
        "id": "FfZRtJ7MCN3x"
      },
      "source": [
        "## Stretch Goals:\n",
        "\n",
        "- Try to implement Random Search Hyperparameter Tuning on this dataset\n",
        "- Try to implement Bayesian Optimiation tuning on this dataset using hyperas or hyperopt (if you're brave)\n",
        "- Practice hyperparameter tuning other datasets that we have looked at. How high can you get MNIST? Above 99%?\n",
        "- Study for the Sprint Challenge\n",
        " - Can you implement both perceptron and MLP models from scratch with forward and backpropagation?\n",
        " - Can you implement both perceptron and MLP models in keras and tune their hyperparameters with cross validation?"
      ]
    }
  ]
}